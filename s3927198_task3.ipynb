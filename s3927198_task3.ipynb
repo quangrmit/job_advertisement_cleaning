{
 "cells": [
  {
   "cell_type": "markdown",
   "metadata": {},
   "source": [
    "# Assignment 1: Data Parsing, Cleansing and Integration\n",
    "## Task 3\n",
    "#### Student Name: Nguyen Duc Quang\n",
    "#### Student ID: 3927198\n",
    "\n",
    "Date: 3/9/2023\n",
    "\n",
    "Version: 1.0\n",
    "\n",
    "Environment: Python 3 and Jupyter notebook\n",
    "\n",
    "Libraries used: please include the main libraries you used in your assignment, e.g.,:\n",
    "* pandas\n",
    "* numpy\n",
    "\n",
    "\n",
    "## Introduction\n",
    "This is the notebook describing the process of intergrating two datasets from different sources and different format. The datasets are job advertisements.\n"
   ]
  },
  {
   "cell_type": "markdown",
   "metadata": {},
   "source": [
    "##  Import libraries "
   ]
  },
  {
   "cell_type": "code",
   "execution_count": 89,
   "metadata": {
    "collapsed": true
   },
   "outputs": [],
   "source": [
    "# Code to import libraries as you need in this assessment\n",
    "import pandas as pd\n",
    "import numpy as np"
   ]
  },
  {
   "cell_type": "markdown",
   "metadata": {},
   "source": [
    "### 1. Examining and loading data\n",
    "Examine \"\\<student\\_id\\>_dataset2.csv\" the structure and schema. "
   ]
  },
  {
   "cell_type": "code",
   "execution_count": 90,
   "metadata": {},
   "outputs": [
    {
     "data": {
      "text/html": [
       "<div>\n",
       "<style scoped>\n",
       "    .dataframe tbody tr th:only-of-type {\n",
       "        vertical-align: middle;\n",
       "    }\n",
       "\n",
       "    .dataframe tbody tr th {\n",
       "        vertical-align: top;\n",
       "    }\n",
       "\n",
       "    .dataframe thead th {\n",
       "        text-align: right;\n",
       "    }\n",
       "</style>\n",
       "<table border=\"1\" class=\"dataframe\">\n",
       "  <thead>\n",
       "    <tr style=\"text-align: right;\">\n",
       "      <th></th>\n",
       "      <th>Monthly Payment</th>\n",
       "      <th>Closing</th>\n",
       "      <th>Organisation</th>\n",
       "      <th>Location</th>\n",
       "      <th>Category</th>\n",
       "      <th>Full-Time Equivalent (FTE)</th>\n",
       "      <th>Opening</th>\n",
       "      <th>Job Title</th>\n",
       "      <th>Type</th>\n",
       "    </tr>\n",
       "  </thead>\n",
       "  <tbody>\n",
       "    <tr>\n",
       "      <th>0</th>\n",
       "      <td>1200.00</td>\n",
       "      <td>2012-12-27 12:00:00</td>\n",
       "      <td>Protocol Education</td>\n",
       "      <td>UK</td>\n",
       "      <td>Education</td>\n",
       "      <td>0.8</td>\n",
       "      <td>2012-11-27 12:00:00</td>\n",
       "      <td>Higher Level Teaching Assistant (HLTA)</td>\n",
       "      <td>NaN</td>\n",
       "    </tr>\n",
       "    <tr>\n",
       "      <th>1</th>\n",
       "      <td>3125.00</td>\n",
       "      <td>2013-08-25 15:00:00</td>\n",
       "      <td>Cordius Ltd</td>\n",
       "      <td>UK</td>\n",
       "      <td>Information Technology</td>\n",
       "      <td>1.0</td>\n",
       "      <td>2013-06-26 15:00:00</td>\n",
       "      <td>Software Developers / Software Architects  Not...</td>\n",
       "      <td>Permanent</td>\n",
       "    </tr>\n",
       "    <tr>\n",
       "      <th>2</th>\n",
       "      <td>4333.33</td>\n",
       "      <td>2013-01-16 15:00:00</td>\n",
       "      <td>Understanding Recruitment</td>\n",
       "      <td>Walton-On-Thames</td>\n",
       "      <td>Information Technology</td>\n",
       "      <td>1.0</td>\n",
       "      <td>2012-10-18 15:00:00</td>\n",
       "      <td>Senior BI Consultant (Cognos)</td>\n",
       "      <td>Permanent</td>\n",
       "    </tr>\n",
       "    <tr>\n",
       "      <th>3</th>\n",
       "      <td>3750.00</td>\n",
       "      <td>2013-02-13 15:00:00</td>\n",
       "      <td>Wallace Hind Selection</td>\n",
       "      <td>UK</td>\n",
       "      <td>Sales</td>\n",
       "      <td>1.0</td>\n",
       "      <td>2012-12-15 15:00:00</td>\n",
       "      <td>Technical Sales Manager, Pigments Fillers to S...</td>\n",
       "      <td>NaN</td>\n",
       "    </tr>\n",
       "    <tr>\n",
       "      <th>4</th>\n",
       "      <td>2916.67</td>\n",
       "      <td>2013-01-12 12:00:00</td>\n",
       "      <td>Greenhill Group Ltd</td>\n",
       "      <td>Eastern England</td>\n",
       "      <td>Sales</td>\n",
       "      <td>1.0</td>\n",
       "      <td>2012-12-29 12:00:00</td>\n",
       "      <td>Channel Account Manager  Software</td>\n",
       "      <td>NaN</td>\n",
       "    </tr>\n",
       "  </tbody>\n",
       "</table>\n",
       "</div>"
      ],
      "text/plain": [
       "   Monthly Payment              Closing               Organisation  \\\n",
       "0          1200.00  2012-12-27 12:00:00         Protocol Education   \n",
       "1          3125.00  2013-08-25 15:00:00                Cordius Ltd   \n",
       "2          4333.33  2013-01-16 15:00:00  Understanding Recruitment   \n",
       "3          3750.00  2013-02-13 15:00:00     Wallace Hind Selection   \n",
       "4          2916.67  2013-01-12 12:00:00        Greenhill Group Ltd   \n",
       "\n",
       "           Location                Category  Full-Time Equivalent (FTE)  \\\n",
       "0                UK               Education                         0.8   \n",
       "1                UK  Information Technology                         1.0   \n",
       "2  Walton-On-Thames  Information Technology                         1.0   \n",
       "3                UK                   Sales                         1.0   \n",
       "4   Eastern England                   Sales                         1.0   \n",
       "\n",
       "               Opening                                          Job Title  \\\n",
       "0  2012-11-27 12:00:00             Higher Level Teaching Assistant (HLTA)   \n",
       "1  2013-06-26 15:00:00  Software Developers / Software Architects  Not...   \n",
       "2  2012-10-18 15:00:00                      Senior BI Consultant (Cognos)   \n",
       "3  2012-12-15 15:00:00  Technical Sales Manager, Pigments Fillers to S...   \n",
       "4  2012-12-29 12:00:00                  Channel Account Manager  Software   \n",
       "\n",
       "        Type  \n",
       "0        NaN  \n",
       "1  Permanent  \n",
       "2  Permanent  \n",
       "3        NaN  \n",
       "4        NaN  "
      ]
     },
     "execution_count": 90,
     "metadata": {},
     "output_type": "execute_result"
    }
   ],
   "source": [
    "df2 = pd.read_csv(\"./s3927198_dataset2.csv\")\n",
    "df2.head()"
   ]
  },
  {
   "cell_type": "code",
   "execution_count": 91,
   "metadata": {},
   "outputs": [
    {
     "data": {
      "text/html": [
       "<div>\n",
       "<style scoped>\n",
       "    .dataframe tbody tr th:only-of-type {\n",
       "        vertical-align: middle;\n",
       "    }\n",
       "\n",
       "    .dataframe tbody tr th {\n",
       "        vertical-align: top;\n",
       "    }\n",
       "\n",
       "    .dataframe thead th {\n",
       "        text-align: right;\n",
       "    }\n",
       "</style>\n",
       "<table border=\"1\" class=\"dataframe\">\n",
       "  <thead>\n",
       "    <tr style=\"text-align: right;\">\n",
       "      <th></th>\n",
       "      <th>Id</th>\n",
       "      <th>Title</th>\n",
       "      <th>Location</th>\n",
       "      <th>Company</th>\n",
       "      <th>ContractType</th>\n",
       "      <th>ContractTime</th>\n",
       "      <th>Category</th>\n",
       "      <th>Salary</th>\n",
       "      <th>OpenDate</th>\n",
       "      <th>CloseDate</th>\n",
       "      <th>SourceName</th>\n",
       "    </tr>\n",
       "  </thead>\n",
       "  <tbody>\n",
       "    <tr>\n",
       "      <th>0</th>\n",
       "      <td>71846213</td>\n",
       "      <td>Nurse : Medical/Surgical Roles NHS Trust, SW E...</td>\n",
       "      <td>Devon</td>\n",
       "      <td>non-specified</td>\n",
       "      <td>non-specified</td>\n",
       "      <td>permanent</td>\n",
       "      <td>Healthcare &amp; Nursing Jobs</td>\n",
       "      <td>24400.0</td>\n",
       "      <td>2012-02-03 15:00:00</td>\n",
       "      <td>2012-03-04 15:00:00</td>\n",
       "      <td>jobs4medical.co.uk</td>\n",
       "    </tr>\n",
       "    <tr>\n",
       "      <th>1</th>\n",
       "      <td>68580301</td>\n",
       "      <td>Dental : Associate Dentist Jobs in Somerset</td>\n",
       "      <td>Somerset</td>\n",
       "      <td>non-specified</td>\n",
       "      <td>non-specified</td>\n",
       "      <td>non-specified</td>\n",
       "      <td>Healthcare &amp; Nursing Jobs</td>\n",
       "      <td>59000.0</td>\n",
       "      <td>2012-09-26 00:00:00</td>\n",
       "      <td>2012-11-25 00:00:00</td>\n",
       "      <td>jobs4medical.co.uk</td>\n",
       "    </tr>\n",
       "    <tr>\n",
       "      <th>2</th>\n",
       "      <td>71337916</td>\n",
       "      <td>Allied Health Care Professional : Optical Advi...</td>\n",
       "      <td>Cheshire</td>\n",
       "      <td>non-specified</td>\n",
       "      <td>non-specified</td>\n",
       "      <td>non-specified</td>\n",
       "      <td>Healthcare &amp; Nursing Jobs</td>\n",
       "      <td>14000.0</td>\n",
       "      <td>2012-11-28 15:00:00</td>\n",
       "      <td>2013-01-27 15:00:00</td>\n",
       "      <td>jobs4medical.co.uk</td>\n",
       "    </tr>\n",
       "    <tr>\n",
       "      <th>3</th>\n",
       "      <td>71353660</td>\n",
       "      <td>Dental : Associates Jobs Dentist Job in Darlin...</td>\n",
       "      <td>Durham</td>\n",
       "      <td>non-specified</td>\n",
       "      <td>non-specified</td>\n",
       "      <td>non-specified</td>\n",
       "      <td>Healthcare &amp; Nursing Jobs</td>\n",
       "      <td>28500.0</td>\n",
       "      <td>2013-05-24 00:00:00</td>\n",
       "      <td>2013-06-07 00:00:00</td>\n",
       "      <td>jobs4medical.co.uk</td>\n",
       "    </tr>\n",
       "    <tr>\n",
       "      <th>4</th>\n",
       "      <td>71337991</td>\n",
       "      <td>Allied Health Care Professional : Dispensing O...</td>\n",
       "      <td>Essex</td>\n",
       "      <td>non-specified</td>\n",
       "      <td>non-specified</td>\n",
       "      <td>non-specified</td>\n",
       "      <td>Healthcare &amp; Nursing Jobs</td>\n",
       "      <td>22000.0</td>\n",
       "      <td>2013-07-11 00:00:00</td>\n",
       "      <td>2013-08-10 00:00:00</td>\n",
       "      <td>jobs4medical.co.uk</td>\n",
       "    </tr>\n",
       "  </tbody>\n",
       "</table>\n",
       "</div>"
      ],
      "text/plain": [
       "         Id                                              Title  Location  \\\n",
       "0  71846213  Nurse : Medical/Surgical Roles NHS Trust, SW E...     Devon   \n",
       "1  68580301        Dental : Associate Dentist Jobs in Somerset  Somerset   \n",
       "2  71337916  Allied Health Care Professional : Optical Advi...  Cheshire   \n",
       "3  71353660  Dental : Associates Jobs Dentist Job in Darlin...    Durham   \n",
       "4  71337991  Allied Health Care Professional : Dispensing O...     Essex   \n",
       "\n",
       "         Company   ContractType   ContractTime                   Category  \\\n",
       "0  non-specified  non-specified      permanent  Healthcare & Nursing Jobs   \n",
       "1  non-specified  non-specified  non-specified  Healthcare & Nursing Jobs   \n",
       "2  non-specified  non-specified  non-specified  Healthcare & Nursing Jobs   \n",
       "3  non-specified  non-specified  non-specified  Healthcare & Nursing Jobs   \n",
       "4  non-specified  non-specified  non-specified  Healthcare & Nursing Jobs   \n",
       "\n",
       "    Salary             OpenDate            CloseDate          SourceName  \n",
       "0  24400.0  2012-02-03 15:00:00  2012-03-04 15:00:00  jobs4medical.co.uk  \n",
       "1  59000.0  2012-09-26 00:00:00  2012-11-25 00:00:00  jobs4medical.co.uk  \n",
       "2  14000.0  2012-11-28 15:00:00  2013-01-27 15:00:00  jobs4medical.co.uk  \n",
       "3  28500.0  2013-05-24 00:00:00  2013-06-07 00:00:00  jobs4medical.co.uk  \n",
       "4  22000.0  2013-07-11 00:00:00  2013-08-10 00:00:00  jobs4medical.co.uk  "
      ]
     },
     "execution_count": 91,
     "metadata": {},
     "output_type": "execute_result"
    }
   ],
   "source": [
    "df1 = pd.read_csv('./s3927198_dataset1_solution.csv', index_col=0 )\n",
    "df1.head()"
   ]
  },
  {
   "cell_type": "markdown",
   "metadata": {},
   "source": [
    "### 2. Resolving schema conflicts"
   ]
  },
  {
   "cell_type": "markdown",
   "metadata": {},
   "source": [
    "#### 2.1 Schema conflict: Category columns values does not match for same categories"
   ]
  },
  {
   "cell_type": "code",
   "execution_count": 92,
   "metadata": {
    "scrolled": false
   },
   "outputs": [
    {
     "data": {
      "text/plain": [
       "['IT Jobs',\n",
       " 'Healthcare & Nursing Jobs',\n",
       " 'Engineering Jobs',\n",
       " 'Accounting & Finance Jobs',\n",
       " 'Sales Jobs',\n",
       " 'Hospitality & Catering Jobs',\n",
       " 'Teaching Jobs',\n",
       " 'PR, Advertising & Marketing Jobs']"
      ]
     },
     "execution_count": 92,
     "metadata": {},
     "output_type": "execute_result"
    }
   ],
   "source": [
    "# Code to inspect data and identify conflicts in schema\n",
    "category1 = df1.Category.value_counts().index.tolist()\n",
    "category1"
   ]
  },
  {
   "cell_type": "code",
   "execution_count": 93,
   "metadata": {},
   "outputs": [
    {
     "data": {
      "text/plain": [
       "['Information Technology',\n",
       " 'Health',\n",
       " 'Engineering',\n",
       " 'Finance',\n",
       " 'Sales',\n",
       " 'Hospitality',\n",
       " 'Education',\n",
       " 'Marketing']"
      ]
     },
     "execution_count": 93,
     "metadata": {},
     "output_type": "execute_result"
    }
   ],
   "source": [
    "category2 = df2.Category.value_counts().index.tolist()\n",
    "category2"
   ]
  },
  {
   "cell_type": "code",
   "execution_count": 94,
   "metadata": {},
   "outputs": [
    {
     "name": "stderr",
     "output_type": "stream",
     "text": [
      "C:\\Users\\Lenovo\\AppData\\Local\\Temp\\ipykernel_11800\\198394117.py:4: SettingWithCopyWarning: \n",
      "A value is trying to be set on a copy of a slice from a DataFrame\n",
      "\n",
      "See the caveats in the documentation: https://pandas.pydata.org/pandas-docs/stable/user_guide/indexing.html#returning-a-view-versus-a-copy\n",
      "  df2['Category'].iloc[i] = category1[ind]\n"
     ]
    },
    {
     "data": {
      "text/plain": [
       "IT Jobs                             1317\n",
       "Healthcare & Nursing Jobs            789\n",
       "Engineering Jobs                     744\n",
       "Accounting & Finance Jobs            668\n",
       "Sales Jobs                           498\n",
       "Hospitality & Catering Jobs          399\n",
       "Teaching Jobs                        326\n",
       "PR, Advertising & Marketing Jobs     259\n",
       "Name: Category, dtype: int64"
      ]
     },
     "execution_count": 94,
     "metadata": {},
     "output_type": "execute_result"
    }
   ],
   "source": [
    "# Code to fix the conflict\n",
    "for i in range(len(df2['Category'])):\n",
    "    ind = category2.index(df2['Category'].iloc[i])\n",
    "    df2['Category'].iloc[i] = category1[ind]\n",
    "df2['Category'].value_counts()"
   ]
  },
  {
   "cell_type": "markdown",
   "metadata": {},
   "source": [
    "#### 2.2 Schema conflict: Type column and ContractTime column"
   ]
  },
  {
   "cell_type": "code",
   "execution_count": 95,
   "metadata": {},
   "outputs": [
    {
     "data": {
      "text/plain": [
       "permanent        31019\n",
       "non-specified    14095\n",
       "contract          5629\n",
       "Name: ContractTime, dtype: int64"
      ]
     },
     "execution_count": 95,
     "metadata": {},
     "output_type": "execute_result"
    }
   ],
   "source": [
    "df1['ContractTime'].value_counts()"
   ]
  },
  {
   "cell_type": "code",
   "execution_count": 96,
   "metadata": {},
   "outputs": [
    {
     "data": {
      "text/plain": [
       "Permanent              3040\n",
       "Fixed Term Contract     540\n",
       "Name: Type, dtype: int64"
      ]
     },
     "execution_count": 96,
     "metadata": {},
     "output_type": "execute_result"
    }
   ],
   "source": [
    "df2['Type'].value_counts()"
   ]
  },
  {
   "cell_type": "code",
   "execution_count": 97,
   "metadata": {},
   "outputs": [],
   "source": [
    "def fix_type(val):\n",
    "    mod = 'non-specified'\n",
    "    if val == 'Permanent':\n",
    "        mod =  'permanent'\n",
    "    elif val == 'Fixed Term Contract':\n",
    "        mod = 'contract'\n",
    "    return mod"
   ]
  },
  {
   "cell_type": "code",
   "execution_count": 98,
   "metadata": {},
   "outputs": [
    {
     "data": {
      "text/plain": [
       "permanent        3040\n",
       "non-specified    1420\n",
       "contract          540\n",
       "Name: Type, dtype: int64"
      ]
     },
     "execution_count": 98,
     "metadata": {},
     "output_type": "execute_result"
    }
   ],
   "source": [
    "df2['Type'] = df2['Type'].apply(fix_type)\n",
    "df2['Type'].value_counts()"
   ]
  },
  {
   "cell_type": "code",
   "execution_count": 99,
   "metadata": {},
   "outputs": [],
   "source": [
    "df2.rename(columns={'Type': 'ContractTime'}, inplace=True)"
   ]
  },
  {
   "cell_type": "markdown",
   "metadata": {},
   "source": [
    "#### 2.3 Schema conflict: Monthly Payment column and Salary column"
   ]
  },
  {
   "cell_type": "code",
   "execution_count": 100,
   "metadata": {},
   "outputs": [],
   "source": [
    "df2['Monthly Payment'] = df2['Monthly Payment'].apply(lambda x: x * 12)"
   ]
  },
  {
   "cell_type": "code",
   "execution_count": 101,
   "metadata": {},
   "outputs": [],
   "source": [
    "df2.rename(columns={'Monthly Payment': 'Salary'}, inplace=True)"
   ]
  },
  {
   "cell_type": "code",
   "execution_count": 102,
   "metadata": {},
   "outputs": [
    {
     "name": "stdout",
     "output_type": "stream",
     "text": [
      "Index(['Salary', 'Closing', 'Organisation', 'Location', 'Category',\n",
      "       'Full-Time Equivalent (FTE)', 'Opening', 'Job Title', 'ContractTime'],\n",
      "      dtype='object')\n",
      "Index(['Id', 'Title', 'Location', 'Company', 'ContractType', 'ContractTime',\n",
      "       'Category', 'Salary', 'OpenDate', 'CloseDate', 'SourceName'],\n",
      "      dtype='object')\n"
     ]
    }
   ],
   "source": [
    "print(df2.columns)\n",
    "print(df1.columns)\n"
   ]
  },
  {
   "cell_type": "markdown",
   "metadata": {},
   "source": [
    "####  2.4 Schema conflict: OpenDate and CloseDate & Opening and Closing naming conflict"
   ]
  },
  {
   "cell_type": "code",
   "execution_count": 103,
   "metadata": {},
   "outputs": [],
   "source": [
    "df2.rename(columns={'Opening': 'OpenDate', 'Closing': 'CloseDate'}, inplace=True)"
   ]
  },
  {
   "cell_type": "markdown",
   "metadata": {},
   "source": [
    "#### 2.5 Schema conflict: Job Title column and Title column naming conflict"
   ]
  },
  {
   "cell_type": "code",
   "execution_count": 104,
   "metadata": {},
   "outputs": [],
   "source": [
    "df2.rename(columns={'Job Title': 'Title'}, inplace=True)"
   ]
  },
  {
   "cell_type": "markdown",
   "metadata": {},
   "source": [
    "#### 2.6 Schema conflict: Organization column and Company column naming conflict"
   ]
  },
  {
   "cell_type": "code",
   "execution_count": 105,
   "metadata": {},
   "outputs": [],
   "source": [
    "df2.rename(columns={'Organisation': 'Company'}, inplace=True)"
   ]
  },
  {
   "cell_type": "markdown",
   "metadata": {},
   "source": [
    "#### 2.7 Schema conflict: FTE column and ContractType column"
   ]
  },
  {
   "cell_type": "code",
   "execution_count": 106,
   "metadata": {},
   "outputs": [
    {
     "data": {
      "text/plain": [
       "non-specified    38078\n",
       "full_time        11244\n",
       "part_time         1421\n",
       "Name: ContractType, dtype: int64"
      ]
     },
     "execution_count": 106,
     "metadata": {},
     "output_type": "execute_result"
    }
   ],
   "source": [
    "df1['ContractType'].value_counts()"
   ]
  },
  {
   "cell_type": "code",
   "execution_count": 107,
   "metadata": {},
   "outputs": [
    {
     "data": {
      "text/plain": [
       "1.0    4834\n",
       "0.4      47\n",
       "0.8      41\n",
       "0.6      39\n",
       "0.2      39\n",
       "Name: ContractType, dtype: int64"
      ]
     },
     "execution_count": 107,
     "metadata": {},
     "output_type": "execute_result"
    }
   ],
   "source": [
    "df2.rename(columns={'Full-Time Equivalent (FTE)': 'ContractType'}, inplace=True)\n",
    "df2['ContractType'].value_counts()"
   ]
  },
  {
   "cell_type": "code",
   "execution_count": 108,
   "metadata": {},
   "outputs": [
    {
     "data": {
      "text/plain": [
       "full_time    4834\n",
       "part_time     166\n",
       "Name: ContractType, dtype: int64"
      ]
     },
     "execution_count": 108,
     "metadata": {},
     "output_type": "execute_result"
    }
   ],
   "source": [
    "df2['ContractType'] = df2['ContractType'].apply(lambda x: 'full_time' if int(x) == 1 else ('part_time' if int(x) < 1 else 'non-specified'))\n",
    "df2['ContractType'].value_counts()"
   ]
  },
  {
   "cell_type": "markdown",
   "metadata": {},
   "source": [
    "#### 2.8 Schema conflict: Seconnd dataset does not have Id column"
   ]
  },
  {
   "cell_type": "code",
   "execution_count": 109,
   "metadata": {},
   "outputs": [
    {
     "data": {
      "text/plain": [
       "72705204"
      ]
     },
     "execution_count": 109,
     "metadata": {},
     "output_type": "execute_result"
    }
   ],
   "source": [
    "bound = df1.Id.max() + 1\n",
    "bound"
   ]
  },
  {
   "cell_type": "code",
   "execution_count": 110,
   "metadata": {},
   "outputs": [],
   "source": [
    "df2['Id'] = [bound + i for i in range(0, len(df2['Title']))]"
   ]
  },
  {
   "cell_type": "code",
   "execution_count": 111,
   "metadata": {},
   "outputs": [
    {
     "data": {
      "text/plain": [
       "0       72705204\n",
       "1       72705205\n",
       "2       72705206\n",
       "3       72705207\n",
       "4       72705208\n",
       "          ...   \n",
       "4995    72710199\n",
       "4996    72710200\n",
       "4997    72710201\n",
       "4998    72710202\n",
       "4999    72710203\n",
       "Name: Id, Length: 5000, dtype: int64"
      ]
     },
     "execution_count": 111,
     "metadata": {},
     "output_type": "execute_result"
    }
   ],
   "source": [
    "df2.Id"
   ]
  },
  {
   "cell_type": "markdown",
   "metadata": {},
   "source": [
    "#### 2.9 Schema conflict: 2nd dataset does not have SourceName column"
   ]
  },
  {
   "cell_type": "code",
   "execution_count": 112,
   "metadata": {},
   "outputs": [],
   "source": [
    "df2[\"SourceName\"] = ['non-specified' for i in range((df2.shape[0]))]"
   ]
  },
  {
   "cell_type": "markdown",
   "metadata": {},
   "source": [
    "#### 2.10 Adapt datatypes across schemas S1 and S2"
   ]
  },
  {
   "cell_type": "code",
   "execution_count": 113,
   "metadata": {},
   "outputs": [
    {
     "name": "stdout",
     "output_type": "stream",
     "text": [
      "<class 'pandas.core.frame.DataFrame'>\n",
      "Int64Index: 50743 entries, 0 to 50742\n",
      "Data columns (total 11 columns):\n",
      " #   Column        Non-Null Count  Dtype  \n",
      "---  ------        --------------  -----  \n",
      " 0   Id            50743 non-null  int64  \n",
      " 1   Title         50743 non-null  object \n",
      " 2   Location      50743 non-null  object \n",
      " 3   Company       50743 non-null  object \n",
      " 4   ContractType  50743 non-null  object \n",
      " 5   ContractTime  50743 non-null  object \n",
      " 6   Category      50743 non-null  object \n",
      " 7   Salary        50743 non-null  float64\n",
      " 8   OpenDate      50743 non-null  object \n",
      " 9   CloseDate     50743 non-null  object \n",
      " 10  SourceName    50743 non-null  object \n",
      "dtypes: float64(1), int64(1), object(9)\n",
      "memory usage: 4.6+ MB\n",
      "None\n",
      "<class 'pandas.core.frame.DataFrame'>\n",
      "RangeIndex: 5000 entries, 0 to 4999\n",
      "Data columns (total 11 columns):\n",
      " #   Column        Non-Null Count  Dtype  \n",
      "---  ------        --------------  -----  \n",
      " 0   Salary        5000 non-null   float64\n",
      " 1   CloseDate     5000 non-null   object \n",
      " 2   Company       4514 non-null   object \n",
      " 3   Location      5000 non-null   object \n",
      " 4   Category      5000 non-null   object \n",
      " 5   ContractType  5000 non-null   object \n",
      " 6   OpenDate      5000 non-null   object \n",
      " 7   Title         5000 non-null   object \n",
      " 8   ContractTime  5000 non-null   object \n",
      " 9   Id            5000 non-null   int64  \n",
      " 10  SourceName    5000 non-null   object \n",
      "dtypes: float64(1), int64(1), object(9)\n",
      "memory usage: 429.8+ KB\n",
      "None\n"
     ]
    }
   ],
   "source": [
    "print (df1.info())\n",
    "print (df2.info())"
   ]
  },
  {
   "cell_type": "code",
   "execution_count": 114,
   "metadata": {},
   "outputs": [],
   "source": [
    "for y in [c for c in df1.columns if c in df2.columns]: # common columns\n",
    "    if df1[y].dtype != df2[y].dtype:\n",
    "        print (\"Column \" + y + \"in df1: \"+ str(df1[y].dtype) + \"to\" + str(df2[y].dtype))\n",
    "        df2[y] = df2[y].astype(df1[y].dtype) "
   ]
  },
  {
   "cell_type": "markdown",
   "metadata": {},
   "source": [
    "### 3. Merging data"
   ]
  },
  {
   "cell_type": "code",
   "execution_count": 115,
   "metadata": {
    "collapsed": true
   },
   "outputs": [
    {
     "data": {
      "text/html": [
       "<div>\n",
       "<style scoped>\n",
       "    .dataframe tbody tr th:only-of-type {\n",
       "        vertical-align: middle;\n",
       "    }\n",
       "\n",
       "    .dataframe tbody tr th {\n",
       "        vertical-align: top;\n",
       "    }\n",
       "\n",
       "    .dataframe thead th {\n",
       "        text-align: right;\n",
       "    }\n",
       "</style>\n",
       "<table border=\"1\" class=\"dataframe\">\n",
       "  <thead>\n",
       "    <tr style=\"text-align: right;\">\n",
       "      <th></th>\n",
       "      <th>Id</th>\n",
       "      <th>Title</th>\n",
       "      <th>Location</th>\n",
       "      <th>Company</th>\n",
       "      <th>ContractType</th>\n",
       "      <th>ContractTime</th>\n",
       "      <th>Category</th>\n",
       "      <th>Salary</th>\n",
       "      <th>OpenDate</th>\n",
       "      <th>CloseDate</th>\n",
       "      <th>SourceName</th>\n",
       "    </tr>\n",
       "  </thead>\n",
       "  <tbody>\n",
       "    <tr>\n",
       "      <th>0</th>\n",
       "      <td>71846213</td>\n",
       "      <td>Nurse : Medical/Surgical Roles NHS Trust, SW E...</td>\n",
       "      <td>Devon</td>\n",
       "      <td>non-specified</td>\n",
       "      <td>non-specified</td>\n",
       "      <td>permanent</td>\n",
       "      <td>Healthcare &amp; Nursing Jobs</td>\n",
       "      <td>24400.00</td>\n",
       "      <td>2012-02-03 15:00:00</td>\n",
       "      <td>2012-03-04 15:00:00</td>\n",
       "      <td>jobs4medical.co.uk</td>\n",
       "    </tr>\n",
       "    <tr>\n",
       "      <th>1</th>\n",
       "      <td>68580301</td>\n",
       "      <td>Dental : Associate Dentist Jobs in Somerset</td>\n",
       "      <td>Somerset</td>\n",
       "      <td>non-specified</td>\n",
       "      <td>non-specified</td>\n",
       "      <td>non-specified</td>\n",
       "      <td>Healthcare &amp; Nursing Jobs</td>\n",
       "      <td>59000.00</td>\n",
       "      <td>2012-09-26 00:00:00</td>\n",
       "      <td>2012-11-25 00:00:00</td>\n",
       "      <td>jobs4medical.co.uk</td>\n",
       "    </tr>\n",
       "    <tr>\n",
       "      <th>2</th>\n",
       "      <td>71337916</td>\n",
       "      <td>Allied Health Care Professional : Optical Advi...</td>\n",
       "      <td>Cheshire</td>\n",
       "      <td>non-specified</td>\n",
       "      <td>non-specified</td>\n",
       "      <td>non-specified</td>\n",
       "      <td>Healthcare &amp; Nursing Jobs</td>\n",
       "      <td>14000.00</td>\n",
       "      <td>2012-11-28 15:00:00</td>\n",
       "      <td>2013-01-27 15:00:00</td>\n",
       "      <td>jobs4medical.co.uk</td>\n",
       "    </tr>\n",
       "    <tr>\n",
       "      <th>3</th>\n",
       "      <td>71353660</td>\n",
       "      <td>Dental : Associates Jobs Dentist Job in Darlin...</td>\n",
       "      <td>Durham</td>\n",
       "      <td>non-specified</td>\n",
       "      <td>non-specified</td>\n",
       "      <td>non-specified</td>\n",
       "      <td>Healthcare &amp; Nursing Jobs</td>\n",
       "      <td>28500.00</td>\n",
       "      <td>2013-05-24 00:00:00</td>\n",
       "      <td>2013-06-07 00:00:00</td>\n",
       "      <td>jobs4medical.co.uk</td>\n",
       "    </tr>\n",
       "    <tr>\n",
       "      <th>4</th>\n",
       "      <td>71337991</td>\n",
       "      <td>Allied Health Care Professional : Dispensing O...</td>\n",
       "      <td>Essex</td>\n",
       "      <td>non-specified</td>\n",
       "      <td>non-specified</td>\n",
       "      <td>non-specified</td>\n",
       "      <td>Healthcare &amp; Nursing Jobs</td>\n",
       "      <td>22000.00</td>\n",
       "      <td>2013-07-11 00:00:00</td>\n",
       "      <td>2013-08-10 00:00:00</td>\n",
       "      <td>jobs4medical.co.uk</td>\n",
       "    </tr>\n",
       "    <tr>\n",
       "      <th>...</th>\n",
       "      <td>...</td>\n",
       "      <td>...</td>\n",
       "      <td>...</td>\n",
       "      <td>...</td>\n",
       "      <td>...</td>\n",
       "      <td>...</td>\n",
       "      <td>...</td>\n",
       "      <td>...</td>\n",
       "      <td>...</td>\n",
       "      <td>...</td>\n",
       "      <td>...</td>\n",
       "    </tr>\n",
       "    <tr>\n",
       "      <th>4995</th>\n",
       "      <td>72710199</td>\n",
       "      <td>Head of Regulatory Policy</td>\n",
       "      <td>London</td>\n",
       "      <td>Jonathan Lee Recruitment Ltd</td>\n",
       "      <td>full_time</td>\n",
       "      <td>permanent</td>\n",
       "      <td>Accounting &amp; Finance Jobs</td>\n",
       "      <td>69999.96</td>\n",
       "      <td>2013-01-30 00:00:00</td>\n",
       "      <td>2013-03-31 00:00:00</td>\n",
       "      <td>non-specified</td>\n",
       "    </tr>\n",
       "    <tr>\n",
       "      <th>4996</th>\n",
       "      <td>72710200</td>\n",
       "      <td>Android Developer  eMarkets and eCommerce  Ber...</td>\n",
       "      <td>Berkshire</td>\n",
       "      <td>Impact 360</td>\n",
       "      <td>full_time</td>\n",
       "      <td>permanent</td>\n",
       "      <td>IT Jobs</td>\n",
       "      <td>60000.00</td>\n",
       "      <td>2012-06-28 12:00:00</td>\n",
       "      <td>2012-08-27 12:00:00</td>\n",
       "      <td>non-specified</td>\n",
       "    </tr>\n",
       "    <tr>\n",
       "      <th>4997</th>\n",
       "      <td>72710201</td>\n",
       "      <td>SAS  Senior Collections Recoveries Analyst</td>\n",
       "      <td>London</td>\n",
       "      <td>Aspire Data Recruitment</td>\n",
       "      <td>full_time</td>\n",
       "      <td>permanent</td>\n",
       "      <td>Accounting &amp; Finance Jobs</td>\n",
       "      <td>33999.96</td>\n",
       "      <td>2013-04-24 00:00:00</td>\n",
       "      <td>2013-07-23 00:00:00</td>\n",
       "      <td>non-specified</td>\n",
       "    </tr>\n",
       "    <tr>\n",
       "      <th>4998</th>\n",
       "      <td>72710202</td>\n",
       "      <td>Lead PHP Magento Developer  London  ****k</td>\n",
       "      <td>London</td>\n",
       "      <td>Annapurna HR Ltd</td>\n",
       "      <td>full_time</td>\n",
       "      <td>permanent</td>\n",
       "      <td>IT Jobs</td>\n",
       "      <td>57500.04</td>\n",
       "      <td>2012-11-18 15:00:00</td>\n",
       "      <td>2012-12-18 15:00:00</td>\n",
       "      <td>non-specified</td>\n",
       "    </tr>\n",
       "    <tr>\n",
       "      <th>4999</th>\n",
       "      <td>72710203</td>\n",
       "      <td>Linux (CentOS), Puppet, SVN, LAMP , Systems Ad...</td>\n",
       "      <td>Surrey</td>\n",
       "      <td>Parallel Consulting Limited</td>\n",
       "      <td>full_time</td>\n",
       "      <td>permanent</td>\n",
       "      <td>IT Jobs</td>\n",
       "      <td>42500.04</td>\n",
       "      <td>2013-08-21 12:00:00</td>\n",
       "      <td>2013-10-20 12:00:00</td>\n",
       "      <td>non-specified</td>\n",
       "    </tr>\n",
       "  </tbody>\n",
       "</table>\n",
       "<p>55743 rows × 11 columns</p>\n",
       "</div>"
      ],
      "text/plain": [
       "            Id                                              Title   Location  \\\n",
       "0     71846213  Nurse : Medical/Surgical Roles NHS Trust, SW E...      Devon   \n",
       "1     68580301        Dental : Associate Dentist Jobs in Somerset   Somerset   \n",
       "2     71337916  Allied Health Care Professional : Optical Advi...   Cheshire   \n",
       "3     71353660  Dental : Associates Jobs Dentist Job in Darlin...     Durham   \n",
       "4     71337991  Allied Health Care Professional : Dispensing O...      Essex   \n",
       "...        ...                                                ...        ...   \n",
       "4995  72710199                          Head of Regulatory Policy     London   \n",
       "4996  72710200  Android Developer  eMarkets and eCommerce  Ber...  Berkshire   \n",
       "4997  72710201         SAS  Senior Collections Recoveries Analyst     London   \n",
       "4998  72710202          Lead PHP Magento Developer  London  ****k     London   \n",
       "4999  72710203  Linux (CentOS), Puppet, SVN, LAMP , Systems Ad...     Surrey   \n",
       "\n",
       "                           Company   ContractType   ContractTime  \\\n",
       "0                    non-specified  non-specified      permanent   \n",
       "1                    non-specified  non-specified  non-specified   \n",
       "2                    non-specified  non-specified  non-specified   \n",
       "3                    non-specified  non-specified  non-specified   \n",
       "4                    non-specified  non-specified  non-specified   \n",
       "...                            ...            ...            ...   \n",
       "4995  Jonathan Lee Recruitment Ltd      full_time      permanent   \n",
       "4996                    Impact 360      full_time      permanent   \n",
       "4997       Aspire Data Recruitment      full_time      permanent   \n",
       "4998              Annapurna HR Ltd      full_time      permanent   \n",
       "4999   Parallel Consulting Limited      full_time      permanent   \n",
       "\n",
       "                       Category    Salary             OpenDate  \\\n",
       "0     Healthcare & Nursing Jobs  24400.00  2012-02-03 15:00:00   \n",
       "1     Healthcare & Nursing Jobs  59000.00  2012-09-26 00:00:00   \n",
       "2     Healthcare & Nursing Jobs  14000.00  2012-11-28 15:00:00   \n",
       "3     Healthcare & Nursing Jobs  28500.00  2013-05-24 00:00:00   \n",
       "4     Healthcare & Nursing Jobs  22000.00  2013-07-11 00:00:00   \n",
       "...                         ...       ...                  ...   \n",
       "4995  Accounting & Finance Jobs  69999.96  2013-01-30 00:00:00   \n",
       "4996                    IT Jobs  60000.00  2012-06-28 12:00:00   \n",
       "4997  Accounting & Finance Jobs  33999.96  2013-04-24 00:00:00   \n",
       "4998                    IT Jobs  57500.04  2012-11-18 15:00:00   \n",
       "4999                    IT Jobs  42500.04  2013-08-21 12:00:00   \n",
       "\n",
       "                CloseDate          SourceName  \n",
       "0     2012-03-04 15:00:00  jobs4medical.co.uk  \n",
       "1     2012-11-25 00:00:00  jobs4medical.co.uk  \n",
       "2     2013-01-27 15:00:00  jobs4medical.co.uk  \n",
       "3     2013-06-07 00:00:00  jobs4medical.co.uk  \n",
       "4     2013-08-10 00:00:00  jobs4medical.co.uk  \n",
       "...                   ...                 ...  \n",
       "4995  2013-03-31 00:00:00       non-specified  \n",
       "4996  2012-08-27 12:00:00       non-specified  \n",
       "4997  2013-07-23 00:00:00       non-specified  \n",
       "4998  2012-12-18 15:00:00       non-specified  \n",
       "4999  2013-10-20 12:00:00       non-specified  \n",
       "\n",
       "[55743 rows x 11 columns]"
      ]
     },
     "execution_count": 115,
     "metadata": {},
     "output_type": "execute_result"
    }
   ],
   "source": [
    "# Code to merge two data sets\n",
    "df = pd.concat([df1, df2])\n",
    "df"
   ]
  },
  {
   "cell_type": "markdown",
   "metadata": {},
   "source": [
    "### 4. Resolving data conflicts:"
   ]
  },
  {
   "cell_type": "markdown",
   "metadata": {},
   "source": [
    "#### Conflict 1: Index conflict "
   ]
  },
  {
   "cell_type": "code",
   "execution_count": 116,
   "metadata": {},
   "outputs": [
    {
     "data": {
      "text/html": [
       "<div>\n",
       "<style scoped>\n",
       "    .dataframe tbody tr th:only-of-type {\n",
       "        vertical-align: middle;\n",
       "    }\n",
       "\n",
       "    .dataframe tbody tr th {\n",
       "        vertical-align: top;\n",
       "    }\n",
       "\n",
       "    .dataframe thead th {\n",
       "        text-align: right;\n",
       "    }\n",
       "</style>\n",
       "<table border=\"1\" class=\"dataframe\">\n",
       "  <thead>\n",
       "    <tr style=\"text-align: right;\">\n",
       "      <th></th>\n",
       "      <th>Id</th>\n",
       "      <th>Title</th>\n",
       "      <th>Location</th>\n",
       "      <th>Company</th>\n",
       "      <th>ContractType</th>\n",
       "      <th>ContractTime</th>\n",
       "      <th>Category</th>\n",
       "      <th>Salary</th>\n",
       "      <th>OpenDate</th>\n",
       "      <th>CloseDate</th>\n",
       "      <th>SourceName</th>\n",
       "    </tr>\n",
       "  </thead>\n",
       "  <tbody>\n",
       "    <tr>\n",
       "      <th>0</th>\n",
       "      <td>71846213</td>\n",
       "      <td>Nurse : Medical/Surgical Roles NHS Trust, SW E...</td>\n",
       "      <td>Devon</td>\n",
       "      <td>non-specified</td>\n",
       "      <td>non-specified</td>\n",
       "      <td>permanent</td>\n",
       "      <td>Healthcare &amp; Nursing Jobs</td>\n",
       "      <td>24400.00</td>\n",
       "      <td>2012-02-03 15:00:00</td>\n",
       "      <td>2012-03-04 15:00:00</td>\n",
       "      <td>jobs4medical.co.uk</td>\n",
       "    </tr>\n",
       "    <tr>\n",
       "      <th>1</th>\n",
       "      <td>68580301</td>\n",
       "      <td>Dental : Associate Dentist Jobs in Somerset</td>\n",
       "      <td>Somerset</td>\n",
       "      <td>non-specified</td>\n",
       "      <td>non-specified</td>\n",
       "      <td>non-specified</td>\n",
       "      <td>Healthcare &amp; Nursing Jobs</td>\n",
       "      <td>59000.00</td>\n",
       "      <td>2012-09-26 00:00:00</td>\n",
       "      <td>2012-11-25 00:00:00</td>\n",
       "      <td>jobs4medical.co.uk</td>\n",
       "    </tr>\n",
       "    <tr>\n",
       "      <th>2</th>\n",
       "      <td>71337916</td>\n",
       "      <td>Allied Health Care Professional : Optical Advi...</td>\n",
       "      <td>Cheshire</td>\n",
       "      <td>non-specified</td>\n",
       "      <td>non-specified</td>\n",
       "      <td>non-specified</td>\n",
       "      <td>Healthcare &amp; Nursing Jobs</td>\n",
       "      <td>14000.00</td>\n",
       "      <td>2012-11-28 15:00:00</td>\n",
       "      <td>2013-01-27 15:00:00</td>\n",
       "      <td>jobs4medical.co.uk</td>\n",
       "    </tr>\n",
       "    <tr>\n",
       "      <th>3</th>\n",
       "      <td>71353660</td>\n",
       "      <td>Dental : Associates Jobs Dentist Job in Darlin...</td>\n",
       "      <td>Durham</td>\n",
       "      <td>non-specified</td>\n",
       "      <td>non-specified</td>\n",
       "      <td>non-specified</td>\n",
       "      <td>Healthcare &amp; Nursing Jobs</td>\n",
       "      <td>28500.00</td>\n",
       "      <td>2013-05-24 00:00:00</td>\n",
       "      <td>2013-06-07 00:00:00</td>\n",
       "      <td>jobs4medical.co.uk</td>\n",
       "    </tr>\n",
       "    <tr>\n",
       "      <th>4</th>\n",
       "      <td>71337991</td>\n",
       "      <td>Allied Health Care Professional : Dispensing O...</td>\n",
       "      <td>Essex</td>\n",
       "      <td>non-specified</td>\n",
       "      <td>non-specified</td>\n",
       "      <td>non-specified</td>\n",
       "      <td>Healthcare &amp; Nursing Jobs</td>\n",
       "      <td>22000.00</td>\n",
       "      <td>2013-07-11 00:00:00</td>\n",
       "      <td>2013-08-10 00:00:00</td>\n",
       "      <td>jobs4medical.co.uk</td>\n",
       "    </tr>\n",
       "    <tr>\n",
       "      <th>...</th>\n",
       "      <td>...</td>\n",
       "      <td>...</td>\n",
       "      <td>...</td>\n",
       "      <td>...</td>\n",
       "      <td>...</td>\n",
       "      <td>...</td>\n",
       "      <td>...</td>\n",
       "      <td>...</td>\n",
       "      <td>...</td>\n",
       "      <td>...</td>\n",
       "      <td>...</td>\n",
       "    </tr>\n",
       "    <tr>\n",
       "      <th>55738</th>\n",
       "      <td>72710199</td>\n",
       "      <td>Head of Regulatory Policy</td>\n",
       "      <td>London</td>\n",
       "      <td>Jonathan Lee Recruitment Ltd</td>\n",
       "      <td>full_time</td>\n",
       "      <td>permanent</td>\n",
       "      <td>Accounting &amp; Finance Jobs</td>\n",
       "      <td>69999.96</td>\n",
       "      <td>2013-01-30 00:00:00</td>\n",
       "      <td>2013-03-31 00:00:00</td>\n",
       "      <td>non-specified</td>\n",
       "    </tr>\n",
       "    <tr>\n",
       "      <th>55739</th>\n",
       "      <td>72710200</td>\n",
       "      <td>Android Developer  eMarkets and eCommerce  Ber...</td>\n",
       "      <td>Berkshire</td>\n",
       "      <td>Impact 360</td>\n",
       "      <td>full_time</td>\n",
       "      <td>permanent</td>\n",
       "      <td>IT Jobs</td>\n",
       "      <td>60000.00</td>\n",
       "      <td>2012-06-28 12:00:00</td>\n",
       "      <td>2012-08-27 12:00:00</td>\n",
       "      <td>non-specified</td>\n",
       "    </tr>\n",
       "    <tr>\n",
       "      <th>55740</th>\n",
       "      <td>72710201</td>\n",
       "      <td>SAS  Senior Collections Recoveries Analyst</td>\n",
       "      <td>London</td>\n",
       "      <td>Aspire Data Recruitment</td>\n",
       "      <td>full_time</td>\n",
       "      <td>permanent</td>\n",
       "      <td>Accounting &amp; Finance Jobs</td>\n",
       "      <td>33999.96</td>\n",
       "      <td>2013-04-24 00:00:00</td>\n",
       "      <td>2013-07-23 00:00:00</td>\n",
       "      <td>non-specified</td>\n",
       "    </tr>\n",
       "    <tr>\n",
       "      <th>55741</th>\n",
       "      <td>72710202</td>\n",
       "      <td>Lead PHP Magento Developer  London  ****k</td>\n",
       "      <td>London</td>\n",
       "      <td>Annapurna HR Ltd</td>\n",
       "      <td>full_time</td>\n",
       "      <td>permanent</td>\n",
       "      <td>IT Jobs</td>\n",
       "      <td>57500.04</td>\n",
       "      <td>2012-11-18 15:00:00</td>\n",
       "      <td>2012-12-18 15:00:00</td>\n",
       "      <td>non-specified</td>\n",
       "    </tr>\n",
       "    <tr>\n",
       "      <th>55742</th>\n",
       "      <td>72710203</td>\n",
       "      <td>Linux (CentOS), Puppet, SVN, LAMP , Systems Ad...</td>\n",
       "      <td>Surrey</td>\n",
       "      <td>Parallel Consulting Limited</td>\n",
       "      <td>full_time</td>\n",
       "      <td>permanent</td>\n",
       "      <td>IT Jobs</td>\n",
       "      <td>42500.04</td>\n",
       "      <td>2013-08-21 12:00:00</td>\n",
       "      <td>2013-10-20 12:00:00</td>\n",
       "      <td>non-specified</td>\n",
       "    </tr>\n",
       "  </tbody>\n",
       "</table>\n",
       "<p>55743 rows × 11 columns</p>\n",
       "</div>"
      ],
      "text/plain": [
       "             Id                                              Title   Location  \\\n",
       "0      71846213  Nurse : Medical/Surgical Roles NHS Trust, SW E...      Devon   \n",
       "1      68580301        Dental : Associate Dentist Jobs in Somerset   Somerset   \n",
       "2      71337916  Allied Health Care Professional : Optical Advi...   Cheshire   \n",
       "3      71353660  Dental : Associates Jobs Dentist Job in Darlin...     Durham   \n",
       "4      71337991  Allied Health Care Professional : Dispensing O...      Essex   \n",
       "...         ...                                                ...        ...   \n",
       "55738  72710199                          Head of Regulatory Policy     London   \n",
       "55739  72710200  Android Developer  eMarkets and eCommerce  Ber...  Berkshire   \n",
       "55740  72710201         SAS  Senior Collections Recoveries Analyst     London   \n",
       "55741  72710202          Lead PHP Magento Developer  London  ****k     London   \n",
       "55742  72710203  Linux (CentOS), Puppet, SVN, LAMP , Systems Ad...     Surrey   \n",
       "\n",
       "                            Company   ContractType   ContractTime  \\\n",
       "0                     non-specified  non-specified      permanent   \n",
       "1                     non-specified  non-specified  non-specified   \n",
       "2                     non-specified  non-specified  non-specified   \n",
       "3                     non-specified  non-specified  non-specified   \n",
       "4                     non-specified  non-specified  non-specified   \n",
       "...                             ...            ...            ...   \n",
       "55738  Jonathan Lee Recruitment Ltd      full_time      permanent   \n",
       "55739                    Impact 360      full_time      permanent   \n",
       "55740       Aspire Data Recruitment      full_time      permanent   \n",
       "55741              Annapurna HR Ltd      full_time      permanent   \n",
       "55742   Parallel Consulting Limited      full_time      permanent   \n",
       "\n",
       "                        Category    Salary             OpenDate  \\\n",
       "0      Healthcare & Nursing Jobs  24400.00  2012-02-03 15:00:00   \n",
       "1      Healthcare & Nursing Jobs  59000.00  2012-09-26 00:00:00   \n",
       "2      Healthcare & Nursing Jobs  14000.00  2012-11-28 15:00:00   \n",
       "3      Healthcare & Nursing Jobs  28500.00  2013-05-24 00:00:00   \n",
       "4      Healthcare & Nursing Jobs  22000.00  2013-07-11 00:00:00   \n",
       "...                          ...       ...                  ...   \n",
       "55738  Accounting & Finance Jobs  69999.96  2013-01-30 00:00:00   \n",
       "55739                    IT Jobs  60000.00  2012-06-28 12:00:00   \n",
       "55740  Accounting & Finance Jobs  33999.96  2013-04-24 00:00:00   \n",
       "55741                    IT Jobs  57500.04  2012-11-18 15:00:00   \n",
       "55742                    IT Jobs  42500.04  2013-08-21 12:00:00   \n",
       "\n",
       "                 CloseDate          SourceName  \n",
       "0      2012-03-04 15:00:00  jobs4medical.co.uk  \n",
       "1      2012-11-25 00:00:00  jobs4medical.co.uk  \n",
       "2      2013-01-27 15:00:00  jobs4medical.co.uk  \n",
       "3      2013-06-07 00:00:00  jobs4medical.co.uk  \n",
       "4      2013-08-10 00:00:00  jobs4medical.co.uk  \n",
       "...                    ...                 ...  \n",
       "55738  2013-03-31 00:00:00       non-specified  \n",
       "55739  2012-08-27 12:00:00       non-specified  \n",
       "55740  2013-07-23 00:00:00       non-specified  \n",
       "55741  2012-12-18 15:00:00       non-specified  \n",
       "55742  2013-10-20 12:00:00       non-specified  \n",
       "\n",
       "[55743 rows x 11 columns]"
      ]
     },
     "execution_count": 116,
     "metadata": {},
     "output_type": "execute_result"
    }
   ],
   "source": [
    "df.reset_index(inplace=True)\n",
    "del df['index']\n",
    "df"
   ]
  },
  {
   "cell_type": "markdown",
   "metadata": {},
   "source": [
    "#### Finding global key for the data\n",
    "Since Id is the only column which has no duplications, Id is the global key"
   ]
  },
  {
   "cell_type": "code",
   "execution_count": 117,
   "metadata": {
    "collapsed": true
   },
   "outputs": [
    {
     "name": "stdout",
     "output_type": "stream",
     "text": [
      "Number of duplications in each column:\n",
      "Id: 0\n",
      "Title: 303\n",
      "Location: 55264\n",
      "Company: 46631\n",
      "ContractType: 55740\n",
      "ContractTime: 55740\n",
      "Category: 55735\n",
      "Salary: 50925\n",
      "OpenDate: 53550\n",
      "CloseDate: 53326\n",
      "SourceName: 55635\n"
     ]
    }
   ],
   "source": [
    "# Code to identify global key\n",
    "print(\"Number of duplications in each column:\")\n",
    "for col in df.columns:\n",
    "    print(col + \": \" + str(df[col].duplicated().sum()))"
   ]
  },
  {
   "cell_type": "markdown",
   "metadata": {},
   "source": [
    "### 5. Saving the integrated and reshaped data\n",
    "The last part of the integration process is to export our output data to csv format, named as:\n",
    "- '\\<student\\_id\\>_dataset_integrated.csv'"
   ]
  },
  {
   "cell_type": "code",
   "execution_count": 118,
   "metadata": {
    "collapsed": true
   },
   "outputs": [],
   "source": [
    "df.to_csv('./s3927198_dataset_integrated.csv')"
   ]
  },
  {
   "cell_type": "markdown",
   "metadata": {},
   "source": [
    "## Summary of the Assessment Task\n",
    "In short, the assessment has demonstrated the different aspects of the 2 datasets and how to integrate them properly. I have learnt a lot from the task and have a great experience."
   ]
  }
 ],
 "metadata": {
  "kernelspec": {
   "display_name": "Python 3",
   "language": "python",
   "name": "python3"
  },
  "language_info": {
   "codemirror_mode": {
    "name": "ipython",
    "version": 3
   },
   "file_extension": ".py",
   "mimetype": "text/x-python",
   "name": "python",
   "nbconvert_exporter": "python",
   "pygments_lexer": "ipython3",
   "version": "3.11.3"
  }
 },
 "nbformat": 4,
 "nbformat_minor": 1
}
