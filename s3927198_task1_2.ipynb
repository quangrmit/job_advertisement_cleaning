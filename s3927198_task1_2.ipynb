{
 "cells": [
  {
   "cell_type": "markdown",
   "metadata": {},
   "source": [
    "# Assignment 1: Data Parsing, Cleansing and Integration\n",
    "## Task 1 and 2\n",
    "#### Student Name: Nguyen Duc Quang\n",
    "#### Student ID: 3927198\n",
    "\n",
    "Date: 3/9/2023\n",
    "\n",
    "Version: 1.0\n",
    "\n",
    "Environment: Python 3 and Jupyter notebook\n",
    "\n",
    "Libraries used: \n",
    "- `pandas`\n",
    "- `re`\n",
    "- `numpy`\n",
    "- `difflib`\n",
    "- `xml`\n",
    "- `sklearn`\n",
    "- `seaborn`\n",
    "\n",
    "\n",
    "## Introduction\n",
    "This is the notebook describing the process of cleaning the dataset of job advertisements desmonstrating different kinds of techniques for processing errors"
   ]
  },
  {
   "cell_type": "markdown",
   "metadata": {},
   "source": [
    "## Importing libraries "
   ]
  },
  {
   "cell_type": "code",
   "execution_count": 343,
   "metadata": {},
   "outputs": [],
   "source": [
    "# Importing libraries\n",
    "import pandas as pd\n",
    "import seaborn as sns\n",
    "import re\n",
    "import numpy as np\n",
    "import difflib\n",
    "from sklearn import linear_model\n",
    "import matplotlib.pyplot as plt\n",
    "from datetime import datetime\n",
    "import xml.etree.ElementTree as etree  "
   ]
  },
  {
   "cell_type": "markdown",
   "metadata": {},
   "source": [
    "## Task 1. Parsing Data"
   ]
  },
  {
   "cell_type": "markdown",
   "metadata": {},
   "source": [
    "### 1.1. Examining and loading data"
   ]
  },
  {
   "cell_type": "code",
   "execution_count": 344,
   "metadata": {},
   "outputs": [],
   "source": [
    " tree = etree.parse('./s3927198_dataset1.xml') "
   ]
  },
  {
   "cell_type": "code",
   "execution_count": 345,
   "metadata": {},
   "outputs": [],
   "source": [
    "root = tree.getroot()"
   ]
  },
  {
   "cell_type": "code",
   "execution_count": 346,
   "metadata": {},
   "outputs": [
    {
     "data": {
      "text/plain": [
       "'Instances'"
      ]
     },
     "execution_count": 346,
     "metadata": {},
     "output_type": "execute_result"
    }
   ],
   "source": [
    "root.tag"
   ]
  },
  {
   "cell_type": "code",
   "execution_count": 347,
   "metadata": {},
   "outputs": [
    {
     "data": {
      "text/plain": [
       "'Source'"
      ]
     },
     "execution_count": 347,
     "metadata": {},
     "output_type": "execute_result"
    }
   ],
   "source": [
    "root[0].tag"
   ]
  },
  {
   "cell_type": "markdown",
   "metadata": {},
   "source": [
    "Here it can be seen that the root `Instances` of the file has multiple `Source` tags, and each 'Source' tag has 1 `Name` tag inside. The information in the `Name` tag can be used in the `SourceName` column"
   ]
  },
  {
   "cell_type": "code",
   "execution_count": 348,
   "metadata": {},
   "outputs": [
    {
     "name": "stdout",
     "output_type": "stream",
     "text": [
      "Name\n",
      "Record\n",
      "Record\n",
      "Record\n",
      "Record\n",
      "Record\n",
      "Record\n",
      "Record\n",
      "Record\n",
      "Record\n",
      "Record\n",
      "Record\n",
      "Record\n",
      "Record\n",
      "Record\n",
      "Record\n",
      "Record\n",
      "Record\n",
      "Record\n",
      "Record\n",
      "Record\n",
      "Record\n",
      "Record\n",
      "Record\n",
      "Record\n",
      "Record\n",
      "Record\n",
      "Record\n",
      "Record\n",
      "Record\n",
      "Record\n",
      "Record\n",
      "Record\n",
      "Record\n",
      "Record\n",
      "Record\n",
      "Record\n",
      "Record\n",
      "Record\n",
      "Record\n",
      "Record\n",
      "Record\n",
      "Record\n",
      "Record\n",
      "Record\n",
      "Record\n",
      "Record\n",
      "Record\n",
      "Record\n",
      "Record\n",
      "Record\n",
      "Record\n",
      "Record\n",
      "Record\n",
      "Record\n",
      "Record\n",
      "Record\n",
      "Record\n",
      "Record\n",
      "Record\n",
      "Record\n",
      "Record\n",
      "Record\n",
      "Record\n",
      "Record\n",
      "Record\n",
      "Record\n",
      "Record\n",
      "Record\n",
      "Record\n",
      "Record\n",
      "Record\n",
      "Record\n",
      "Record\n",
      "Record\n",
      "Record\n",
      "Record\n",
      "Record\n",
      "Record\n",
      "Record\n",
      "Record\n",
      "Record\n",
      "Record\n",
      "Record\n",
      "Record\n",
      "Record\n",
      "Record\n",
      "Record\n",
      "Record\n",
      "Record\n",
      "Record\n",
      "Record\n",
      "Record\n",
      "Record\n",
      "Record\n",
      "Record\n",
      "Record\n",
      "Record\n",
      "Record\n",
      "Record\n",
      "Record\n",
      "Record\n",
      "Record\n",
      "Record\n",
      "Record\n",
      "Record\n",
      "Record\n",
      "Record\n",
      "Record\n",
      "Record\n",
      "Record\n",
      "Record\n",
      "Record\n",
      "Record\n",
      "Record\n",
      "Record\n",
      "Record\n",
      "Record\n",
      "Record\n",
      "Record\n",
      "Record\n",
      "Record\n",
      "Record\n",
      "Record\n",
      "Record\n",
      "Record\n",
      "Record\n",
      "Record\n",
      "Record\n",
      "Record\n",
      "Record\n",
      "Record\n",
      "Record\n",
      "Record\n",
      "Record\n",
      "Record\n",
      "Record\n",
      "Record\n",
      "Record\n",
      "Record\n",
      "Record\n",
      "Record\n",
      "Record\n",
      "Record\n",
      "Record\n",
      "Record\n",
      "Record\n",
      "Record\n",
      "Record\n",
      "Record\n",
      "Record\n",
      "Record\n",
      "Record\n",
      "Record\n",
      "Record\n",
      "Record\n",
      "Record\n",
      "Record\n",
      "Record\n",
      "Record\n",
      "Record\n",
      "Record\n",
      "Record\n",
      "Record\n",
      "Record\n",
      "Record\n",
      "Record\n",
      "Record\n",
      "Record\n",
      "Record\n",
      "Record\n",
      "Record\n",
      "Record\n",
      "Record\n",
      "Record\n",
      "Record\n",
      "Record\n",
      "Record\n",
      "Record\n",
      "Record\n",
      "Record\n",
      "Record\n",
      "Record\n",
      "Record\n",
      "Record\n",
      "Record\n",
      "Record\n",
      "Record\n",
      "Record\n",
      "Record\n",
      "Record\n",
      "Record\n",
      "Record\n",
      "Record\n",
      "Record\n",
      "Record\n",
      "Record\n",
      "Record\n",
      "Record\n",
      "Record\n",
      "Record\n",
      "Record\n",
      "Record\n",
      "Record\n",
      "Record\n",
      "Record\n"
     ]
    }
   ],
   "source": [
    "for child in root[0]:\n",
    "    print(child.tag)"
   ]
  },
  {
   "cell_type": "code",
   "execution_count": 349,
   "metadata": {},
   "outputs": [
    {
     "data": {
      "text/plain": [
       "'Record'"
      ]
     },
     "execution_count": 349,
     "metadata": {},
     "output_type": "execute_result"
    }
   ],
   "source": [
    "root[0][1].tag"
   ]
  },
  {
   "cell_type": "code",
   "execution_count": 350,
   "metadata": {},
   "outputs": [
    {
     "name": "stdout",
     "output_type": "stream",
     "text": [
      "Title\n",
      "Location\n",
      "Company\n",
      "ContractType\n",
      "ContractTime\n",
      "Category\n",
      "Salary\n",
      "OpenDate\n",
      "CloseDate\n"
     ]
    }
   ],
   "source": [
    "for child in root[0][1]:\n",
    "    print(child.tag)"
   ]
  },
  {
   "cell_type": "markdown",
   "metadata": {},
   "source": [
    "After exploring the `Record` tag, it is obvious that its children corresponds to the columns required for the data table."
   ]
  },
  {
   "cell_type": "markdown",
   "metadata": {},
   "source": [
    "### 1.2 Parsing data into the required format"
   ]
  },
  {
   "cell_type": "code",
   "execution_count": 351,
   "metadata": {},
   "outputs": [],
   "source": [
    "# Initialize a dictionary to be later converted into a DataFrame\n",
    "dataDict = {}\n",
    "dataDict['Id'] = []\n",
    "dataDict['Title'] = []\n",
    "dataDict['Location'] = []\n",
    "dataDict['Company'] = []\n",
    "dataDict['ContractType'] = []\n",
    "dataDict['ContractTime'] = []\n",
    "dataDict['Category'] = []\n",
    "dataDict['Salary'] = []\n",
    "dataDict['OpenDate'] = []\n",
    "dataDict['CloseDate'] = []\n",
    "dataDict['SourceName'] = []"
   ]
  },
  {
   "cell_type": "code",
   "execution_count": 352,
   "metadata": {},
   "outputs": [],
   "source": [
    "dataKeys = list(dataDict.keys())\n",
    "# Assign root to another variable with different name for ease of read\n",
    "sources = root\n",
    "# Loop through the 'Source' tags to extract the records\n",
    "for src in sources:\n",
    "\tsrc_name = src[0].text\n",
    "\t# Loop through the 'Record' tags in 'Source'\n",
    "\tfor i in range(1,len(src)):\n",
    "\t\trec = src[i]\n",
    "\t\t# Append SourceName and Id data to the dictionary\n",
    "\t\tdataDict['SourceName'].append(src_name)\n",
    "\t\tdataDict['Id'].append(src[i].attrib['ID'])\n",
    "\t\t# Pre-fill the data with placeholder in case of missing tags\n",
    "\t\tfor key in dataKeys:\n",
    "\t\t\tif key != 'SourceName' and key != 'Id':\n",
    "\t\t\t\tdataDict[key].append('-')\n",
    "\t\t# Reassign the missing tags with records that have enough columns\n",
    "\t\tfor attr in rec:\n",
    "\t\t\tdataDict[attr.tag][-1] = attr.text"
   ]
  },
  {
   "cell_type": "code",
   "execution_count": 353,
   "metadata": {},
   "outputs": [
    {
     "name": "stdout",
     "output_type": "stream",
     "text": [
      "50753   Id\n",
      "50753   Title\n",
      "50753   Location\n",
      "50753   Company\n",
      "50753   ContractType\n",
      "50753   ContractTime\n",
      "50753   Category\n",
      "50753   Salary\n",
      "50753   OpenDate\n",
      "50753   CloseDate\n",
      "50753   SourceName\n"
     ]
    }
   ],
   "source": [
    "# Inspect the number of rows in each columns\n",
    "for key in dataDict.keys():\n",
    "    print(len(dataDict[key]), \" \", key)"
   ]
  },
  {
   "cell_type": "code",
   "execution_count": 354,
   "metadata": {},
   "outputs": [
    {
     "data": {
      "text/html": [
       "<div>\n",
       "<style scoped>\n",
       "    .dataframe tbody tr th:only-of-type {\n",
       "        vertical-align: middle;\n",
       "    }\n",
       "\n",
       "    .dataframe tbody tr th {\n",
       "        vertical-align: top;\n",
       "    }\n",
       "\n",
       "    .dataframe thead th {\n",
       "        text-align: right;\n",
       "    }\n",
       "</style>\n",
       "<table border=\"1\" class=\"dataframe\">\n",
       "  <thead>\n",
       "    <tr style=\"text-align: right;\">\n",
       "      <th></th>\n",
       "      <th>Id</th>\n",
       "      <th>Title</th>\n",
       "      <th>Location</th>\n",
       "      <th>Company</th>\n",
       "      <th>ContractType</th>\n",
       "      <th>ContractTime</th>\n",
       "      <th>Category</th>\n",
       "      <th>Salary</th>\n",
       "      <th>OpenDate</th>\n",
       "      <th>CloseDate</th>\n",
       "      <th>SourceName</th>\n",
       "    </tr>\n",
       "  </thead>\n",
       "  <tbody>\n",
       "    <tr>\n",
       "      <th>0</th>\n",
       "      <td>71846213</td>\n",
       "      <td>Nurse : Medical/Surgical Roles NHS Trust, SW E...</td>\n",
       "      <td>Devon</td>\n",
       "      <td>-</td>\n",
       "      <td>-</td>\n",
       "      <td>permanent</td>\n",
       "      <td>Healthcare &amp; Nursing Jobs</td>\n",
       "      <td>24400</td>\n",
       "      <td>20120203T150000</td>\n",
       "      <td>20120304T150000</td>\n",
       "      <td>jobs4medical.co.uk</td>\n",
       "    </tr>\n",
       "    <tr>\n",
       "      <th>1</th>\n",
       "      <td>68580301</td>\n",
       "      <td>Dental : Associate Dentist Jobs in Somerset</td>\n",
       "      <td>Somerset</td>\n",
       "      <td>-</td>\n",
       "      <td>-</td>\n",
       "      <td>-</td>\n",
       "      <td>Healthcare &amp; Nursing Jobs</td>\n",
       "      <td>59000</td>\n",
       "      <td>20120926T000000</td>\n",
       "      <td>20121125T000000</td>\n",
       "      <td>jobs4medical.co.uk</td>\n",
       "    </tr>\n",
       "    <tr>\n",
       "      <th>2</th>\n",
       "      <td>71337916</td>\n",
       "      <td>Allied Health Care Professional : Optical Advi...</td>\n",
       "      <td>Cheshire</td>\n",
       "      <td>-</td>\n",
       "      <td>-</td>\n",
       "      <td>-</td>\n",
       "      <td>Healthcare &amp; Nursing Jobs</td>\n",
       "      <td>14000</td>\n",
       "      <td>20121128T150000</td>\n",
       "      <td>20130127T150000</td>\n",
       "      <td>jobs4medical.co.uk</td>\n",
       "    </tr>\n",
       "    <tr>\n",
       "      <th>3</th>\n",
       "      <td>71353660</td>\n",
       "      <td>Dental : Associates Jobs Dentist Job in Darlin...</td>\n",
       "      <td>Durham</td>\n",
       "      <td>-</td>\n",
       "      <td>-</td>\n",
       "      <td>-</td>\n",
       "      <td>Healthcare &amp; Nursing Jobs</td>\n",
       "      <td>28500</td>\n",
       "      <td>20130524T000000</td>\n",
       "      <td>20130607T000000</td>\n",
       "      <td>jobs4medical.co.uk</td>\n",
       "    </tr>\n",
       "    <tr>\n",
       "      <th>4</th>\n",
       "      <td>71337991</td>\n",
       "      <td>Allied Health Care Professional : Dispensing O...</td>\n",
       "      <td>Essex</td>\n",
       "      <td>-</td>\n",
       "      <td>-</td>\n",
       "      <td>-</td>\n",
       "      <td>Healthcare &amp; Nursing Jobs</td>\n",
       "      <td>22000</td>\n",
       "      <td>20130711T000000</td>\n",
       "      <td>20130810T000000</td>\n",
       "      <td>jobs4medical.co.uk</td>\n",
       "    </tr>\n",
       "    <tr>\n",
       "      <th>...</th>\n",
       "      <td>...</td>\n",
       "      <td>...</td>\n",
       "      <td>...</td>\n",
       "      <td>...</td>\n",
       "      <td>...</td>\n",
       "      <td>...</td>\n",
       "      <td>...</td>\n",
       "      <td>...</td>\n",
       "      <td>...</td>\n",
       "      <td>...</td>\n",
       "      <td>...</td>\n",
       "    </tr>\n",
       "    <tr>\n",
       "      <th>50748</th>\n",
       "      <td>72702599</td>\n",
       "      <td>Scientific Editorial Team Leader</td>\n",
       "      <td>London</td>\n",
       "      <td>Executive Facilities</td>\n",
       "      <td>full_time</td>\n",
       "      <td>permanent</td>\n",
       "      <td>Healthcare &amp; Nursing Jobs</td>\n",
       "      <td>50000</td>\n",
       "      <td>20130626T150000</td>\n",
       "      <td>20130924T150000</td>\n",
       "      <td>jobsinsocialwork.co.uk</td>\n",
       "    </tr>\n",
       "    <tr>\n",
       "      <th>50749</th>\n",
       "      <td>59865461</td>\n",
       "      <td>Adult Care Learning Advisor</td>\n",
       "      <td>Devon</td>\n",
       "      <td>Forces Recruitment Services  Ltd</td>\n",
       "      <td>full_time</td>\n",
       "      <td>permanent</td>\n",
       "      <td>Teaching Jobs</td>\n",
       "      <td>19387</td>\n",
       "      <td>20130314T120000</td>\n",
       "      <td>20130513T120000</td>\n",
       "      <td>jobsinsocialwork.co.uk</td>\n",
       "    </tr>\n",
       "    <tr>\n",
       "      <th>50750</th>\n",
       "      <td>65120529</td>\n",
       "      <td>Key Client Consultant (Account Manager, Area S...</td>\n",
       "      <td>Surrey</td>\n",
       "      <td>Blue Octopus Recruitment Ltd</td>\n",
       "      <td>full_time</td>\n",
       "      <td>permanent</td>\n",
       "      <td>Healthcare &amp; Nursing Jobs</td>\n",
       "      <td>15000</td>\n",
       "      <td>20120408T000000</td>\n",
       "      <td>20120508T000000</td>\n",
       "      <td>jobsinsocialwork.co.uk</td>\n",
       "    </tr>\n",
       "    <tr>\n",
       "      <th>50751</th>\n",
       "      <td>69689514</td>\n",
       "      <td>medical help desk</td>\n",
       "      <td>Northamptonshire</td>\n",
       "      <td>Support Services Group</td>\n",
       "      <td>full_time</td>\n",
       "      <td>permanent</td>\n",
       "      <td>Healthcare &amp; Nursing Jobs</td>\n",
       "      <td>24000</td>\n",
       "      <td>20130102T150000</td>\n",
       "      <td>20130201T150000</td>\n",
       "      <td>jobsinsocialwork.co.uk</td>\n",
       "    </tr>\n",
       "    <tr>\n",
       "      <th>50752</th>\n",
       "      <td>66372417</td>\n",
       "      <td>Graduate Engineer (Water industry)</td>\n",
       "      <td>South Lanarkshire</td>\n",
       "      <td>Carrington West Limited</td>\n",
       "      <td>full_time</td>\n",
       "      <td>contract</td>\n",
       "      <td>Engineering Jobs</td>\n",
       "      <td>-</td>\n",
       "      <td>20130119T000000</td>\n",
       "      <td>20130419T000000</td>\n",
       "      <td>thegraduate.co.uk</td>\n",
       "    </tr>\n",
       "  </tbody>\n",
       "</table>\n",
       "<p>50753 rows × 11 columns</p>\n",
       "</div>"
      ],
      "text/plain": [
       "             Id                                              Title  \\\n",
       "0      71846213  Nurse : Medical/Surgical Roles NHS Trust, SW E...   \n",
       "1      68580301        Dental : Associate Dentist Jobs in Somerset   \n",
       "2      71337916  Allied Health Care Professional : Optical Advi...   \n",
       "3      71353660  Dental : Associates Jobs Dentist Job in Darlin...   \n",
       "4      71337991  Allied Health Care Professional : Dispensing O...   \n",
       "...         ...                                                ...   \n",
       "50748  72702599                   Scientific Editorial Team Leader   \n",
       "50749  59865461                        Adult Care Learning Advisor   \n",
       "50750  65120529  Key Client Consultant (Account Manager, Area S...   \n",
       "50751  69689514                                  medical help desk   \n",
       "50752  66372417                 Graduate Engineer (Water industry)   \n",
       "\n",
       "                Location                           Company ContractType  \\\n",
       "0                  Devon                                 -            -   \n",
       "1               Somerset                                 -            -   \n",
       "2               Cheshire                                 -            -   \n",
       "3                 Durham                                 -            -   \n",
       "4                  Essex                                 -            -   \n",
       "...                  ...                               ...          ...   \n",
       "50748             London              Executive Facilities    full_time   \n",
       "50749              Devon  Forces Recruitment Services  Ltd    full_time   \n",
       "50750             Surrey      Blue Octopus Recruitment Ltd    full_time   \n",
       "50751   Northamptonshire           Support Services Group     full_time   \n",
       "50752  South Lanarkshire           Carrington West Limited    full_time   \n",
       "\n",
       "      ContractTime                   Category Salary         OpenDate  \\\n",
       "0        permanent  Healthcare & Nursing Jobs  24400  20120203T150000   \n",
       "1                -  Healthcare & Nursing Jobs  59000  20120926T000000   \n",
       "2                -  Healthcare & Nursing Jobs  14000  20121128T150000   \n",
       "3                -  Healthcare & Nursing Jobs  28500  20130524T000000   \n",
       "4                -  Healthcare & Nursing Jobs  22000  20130711T000000   \n",
       "...            ...                        ...    ...              ...   \n",
       "50748    permanent  Healthcare & Nursing Jobs  50000  20130626T150000   \n",
       "50749    permanent              Teaching Jobs  19387  20130314T120000   \n",
       "50750    permanent  Healthcare & Nursing Jobs  15000  20120408T000000   \n",
       "50751    permanent  Healthcare & Nursing Jobs  24000  20130102T150000   \n",
       "50752     contract           Engineering Jobs      -  20130119T000000   \n",
       "\n",
       "             CloseDate              SourceName  \n",
       "0      20120304T150000      jobs4medical.co.uk  \n",
       "1      20121125T000000      jobs4medical.co.uk  \n",
       "2      20130127T150000      jobs4medical.co.uk  \n",
       "3      20130607T000000      jobs4medical.co.uk  \n",
       "4      20130810T000000      jobs4medical.co.uk  \n",
       "...                ...                     ...  \n",
       "50748  20130924T150000  jobsinsocialwork.co.uk  \n",
       "50749  20130513T120000  jobsinsocialwork.co.uk  \n",
       "50750  20120508T000000  jobsinsocialwork.co.uk  \n",
       "50751  20130201T150000  jobsinsocialwork.co.uk  \n",
       "50752  20130419T000000       thegraduate.co.uk  \n",
       "\n",
       "[50753 rows x 11 columns]"
      ]
     },
     "execution_count": 354,
     "metadata": {},
     "output_type": "execute_result"
    }
   ],
   "source": [
    "# Convert the dictionary to a DataFrame and inspect it\n",
    "df = pd.DataFrame(dataDict)\n",
    "df"
   ]
  },
  {
   "cell_type": "markdown",
   "metadata": {},
   "source": [
    "## Task 2. Auditing and cleansing the loaded data\n",
    "\n",
    "Here, you should write your own code to audit data, identify data problems and to fix them. You are also required to record the errors found and fixings in an error list."
   ]
  },
  {
   "cell_type": "markdown",
   "metadata": {},
   "source": [
    "### 2.1. Define error file DataFrame and error adding function"
   ]
  },
  {
   "cell_type": "code",
   "execution_count": 355,
   "metadata": {},
   "outputs": [],
   "source": [
    "# Initializing error file name destination and DataFrame object for recording errors\n",
    "error_file = './s3927198_errorlist.csv'\n",
    "errDict = dict()\n",
    "errDict['indexOfdf'] = []\n",
    "errDict['Id'] = []\n",
    "errDict['ColumnName'] = []\n",
    "errDict['Original'] = []\n",
    "errDict['Modified'] = []\n",
    "errDict['ErrorType'] = []\n",
    "errDict['Fixing'] = []"
   ]
  },
  {
   "cell_type": "code",
   "execution_count": 356,
   "metadata": {},
   "outputs": [],
   "source": [
    "def add_err(ind, ids, col, ori, mod, errtype, fixing=None ):\n",
    "    # Appending to errDict for each column of the error table\n",
    "    errDict['indexOfdf'].append(ind)\n",
    "    errDict['Id'].append(ids)\n",
    "    errDict['ColumnName'].append(col)\n",
    "    errDict['Original'].append(ori)\n",
    "    errDict['Modified'].append(mod)\n",
    "    errDict['ErrorType'].append(errtype)\n",
    "    if fixing == None:\n",
    "        # Fixing format if no fixing value is specified for the function\n",
    "        errDict['Fixing'].append(f\"Change '{str(ori)}' to '{str(mod)}'\")\n",
    "    else:\n",
    "        errDict['Fixing'].append(fixing)"
   ]
  },
  {
   "cell_type": "markdown",
   "metadata": {},
   "source": [
    "### 2.2. Audit data"
   ]
  },
  {
   "cell_type": "markdown",
   "metadata": {},
   "source": [
    "#### Audit String type columns"
   ]
  },
  {
   "cell_type": "code",
   "execution_count": 357,
   "metadata": {},
   "outputs": [
    {
     "data": {
      "text/plain": [
       "-            27790\n",
       "full_time    11249\n",
       "N/A           7611\n",
       "              2682\n",
       "part_time     1421\n",
       "Name: ContractType, dtype: int64"
      ]
     },
     "execution_count": 357,
     "metadata": {},
     "output_type": "execute_result"
    }
   ],
   "source": [
    "df['ContractType'].value_counts()"
   ]
  },
  {
   "cell_type": "code",
   "execution_count": 358,
   "metadata": {},
   "outputs": [
    {
     "data": {
      "text/plain": [
       "permanent    31023\n",
       "-             5812\n",
       "contract      5629\n",
       "              4404\n",
       "N/A           3885\n",
       "Name: ContractTime, dtype: int64"
      ]
     },
     "execution_count": 358,
     "metadata": {},
     "output_type": "execute_result"
    }
   ],
   "source": [
    "df['ContractTime'].value_counts()"
   ]
  },
  {
   "cell_type": "code",
   "execution_count": 359,
   "metadata": {},
   "outputs": [
    {
     "data": {
      "text/plain": [
       "IT Jobs                             13119\n",
       "Healthcare & Nursing Jobs            8070\n",
       "Engineering Jobs                     7522\n",
       "Accounting & Finance Jobs            6779\n",
       "Sales Jobs                           4880\n",
       "Hospitality & Catering Jobs          4400\n",
       "Teaching Jobs                        3471\n",
       "PR, Advertising & Marketing Jobs     2512\n",
       "Name: Category, dtype: int64"
      ]
     },
     "execution_count": 359,
     "metadata": {},
     "output_type": "execute_result"
    }
   ],
   "source": [
    "df['Category'].value_counts()"
   ]
  },
  {
   "cell_type": "code",
   "execution_count": 360,
   "metadata": {},
   "outputs": [
    {
     "data": {
      "text/plain": [
       "totaljobs.com        9265\n",
       "cv-library.co.uk     7169\n",
       "jobsite.co.uk        3331\n",
       "cwjobs.co.uk         2838\n",
       "staffnurse.com       2527\n",
       "                     ... \n",
       "grb.uk.com              4\n",
       "scotsman.com            4\n",
       "jobs.gponline.com       3\n",
       "cvjobstore.com          1\n",
       "thegraduate.co.uk       1\n",
       "Name: SourceName, Length: 107, dtype: int64"
      ]
     },
     "execution_count": 360,
     "metadata": {},
     "output_type": "execute_result"
    }
   ],
   "source": [
    "df['SourceName'].value_counts()"
   ]
  },
  {
   "cell_type": "code",
   "execution_count": 361,
   "metadata": {},
   "outputs": [
    {
     "data": {
      "text/plain": [
       "-                     2637\n",
       "                      1925\n",
       "UKStaffsearch          451\n",
       "Randstad               374\n",
       "N/A                    373\n",
       "                      ... \n",
       "Victor Michael Ltd       1\n",
       "Xoserve                  1\n",
       "Don't Move Extend        1\n",
       "Paragon Network          1\n",
       "Group Cytek              1\n",
       "Name: Company, Length: 8767, dtype: int64"
      ]
     },
     "execution_count": 361,
     "metadata": {},
     "output_type": "execute_result"
    }
   ],
   "source": [
    "df['Company'].value_counts()"
   ]
  },
  {
   "cell_type": "code",
   "execution_count": 362,
   "metadata": {},
   "outputs": [
    {
     "data": {
      "text/plain": [
       "UK                   7719\n",
       "London               6571\n",
       "South East London    2665\n",
       "The City             1144\n",
       "Central London        829\n",
       "                     ... \n",
       "HAMpshire               1\n",
       "BRISTOL                 1\n",
       "Oxfords                 1\n",
       "Livepool                1\n",
       "ABERDEEN                1\n",
       "Name: Location, Length: 496, dtype: int64"
      ]
     },
     "execution_count": 362,
     "metadata": {},
     "output_type": "execute_result"
    }
   ],
   "source": [
    "df['Location'].value_counts()"
   ]
  },
  {
   "cell_type": "markdown",
   "metadata": {},
   "source": [
    "After auditing columns of type string, we can see that there are several errors:\n",
    "- Inconsistency representation of null values ('-', 'N/A',' ')\n",
    "- Misspellings ('HAMpshire', 'Livepool',...)"
   ]
  },
  {
   "cell_type": "markdown",
   "metadata": {},
   "source": [
    "#### Audit datetime columns"
   ]
  },
  {
   "cell_type": "code",
   "execution_count": 363,
   "metadata": {},
   "outputs": [
    {
     "data": {
      "text/plain": [
       "20130626T150000    41\n",
       "20130813T150000    40\n",
       "20120408T120000    39\n",
       "20120519T120000    39\n",
       "20120209T150000    39\n",
       "                   ..\n",
       "20120126T120000    10\n",
       "20121026T000000    10\n",
       "20120525T120000    10\n",
       "20122201T120000     1\n",
       "20140223T150000     1\n",
       "Name: OpenDate, Length: 2195, dtype: int64"
      ]
     },
     "execution_count": 363,
     "metadata": {},
     "output_type": "execute_result"
    }
   ],
   "source": [
    "df['OpenDate'].value_counts()"
   ]
  },
  {
   "cell_type": "code",
   "execution_count": 364,
   "metadata": {},
   "outputs": [
    {
     "data": {
      "text/plain": [
       "20120508T000000    39\n",
       "20130502T000000    38\n",
       "20130317T150000    37\n",
       "20120908T150000    37\n",
       "20130825T000000    37\n",
       "                   ..\n",
       "20120120T000000     1\n",
       "20120118T120000     1\n",
       "20120126T000000     1\n",
       "20120120T120000     1\n",
       "20120128T150000     1\n",
       "Name: CloseDate, Length: 2414, dtype: int64"
      ]
     },
     "execution_count": 364,
     "metadata": {},
     "output_type": "execute_result"
    }
   ],
   "source": [
    "df['CloseDate'].value_counts()"
   ]
  },
  {
   "cell_type": "markdown",
   "metadata": {},
   "source": [
    "After auditing datetime columns, it can clearly be seen that the dates are in the wrong format."
   ]
  },
  {
   "cell_type": "markdown",
   "metadata": {},
   "source": [
    "#### Audit numeric columns"
   ]
  },
  {
   "cell_type": "code",
   "execution_count": 365,
   "metadata": {},
   "outputs": [
    {
     "data": {
      "text/plain": [
       "35000              1736\n",
       "30000              1666\n",
       "40000              1565\n",
       "-                  1448\n",
       "32500              1361\n",
       "                   ... \n",
       "20700                 1\n",
       "22000/year            1\n",
       "15500  ~  20500       1\n",
       "15745                 1\n",
       "53520                 1\n",
       "Name: Salary, Length: 3444, dtype: int64"
      ]
     },
     "execution_count": 365,
     "metadata": {},
     "output_type": "execute_result"
    }
   ],
   "source": [
    "df['Salary'].value_counts()"
   ]
  },
  {
   "cell_type": "code",
   "execution_count": 366,
   "metadata": {},
   "outputs": [
    {
     "data": {
      "text/plain": [
       "[]                    47811\n",
       "['-']                  1448\n",
       "['N/A']                 399\n",
       "[' ']                   342\n",
       "['.']                   293\n",
       "[' per Annum']          100\n",
       "[' to ']                100\n",
       "['/year']               100\n",
       "['k']                    50\n",
       "[' - ']                  30\n",
       "[' ~ ']                  30\n",
       "['  ~  ']                30\n",
       "['.', ' per hour']       10\n",
       "['.', ' p/h']            10\n",
       "Name: Salary, dtype: int64"
      ]
     },
     "execution_count": 366,
     "metadata": {},
     "output_type": "execute_result"
    }
   ],
   "source": [
    "non_digit_chars = df['Salary'].apply(lambda x: re.findall(r'\\D+', str(x)))\n",
    "non_digit_chars.astype('str').value_counts()"
   ]
  },
  {
   "cell_type": "markdown",
   "metadata": {},
   "source": [
    "After auditing the Salary column, it can be seen that the salaries are represented in different formats, which needs to be unified."
   ]
  },
  {
   "cell_type": "markdown",
   "metadata": {},
   "source": [
    "### 2.3. Cleanse the data and further processing."
   ]
  },
  {
   "cell_type": "markdown",
   "metadata": {},
   "source": [
    "#### Fix the inconsistent representation of null values in string columns"
   ]
  },
  {
   "cell_type": "code",
   "execution_count": 367,
   "metadata": {},
   "outputs": [],
   "source": [
    "# Define variations of null values in the dataset\n",
    "nan_vals = ['N/A', '', '-']\n",
    "\n",
    "# Loop through the string data columns to replace wrong null values with 'non-specified'\n",
    "for col in df.columns:\n",
    "    # Skip non-string columns\n",
    "    if col == 'Salary' or col == 'CloseDate' or col == 'OpenDate':\n",
    "        continue\n",
    "    # Loop through values of each column\n",
    "    for i in range(len(df[col])):\n",
    "        # Skip if value is not a wrong representation of null values\n",
    "        if df[col].iloc[i].strip() not in nan_vals:\n",
    "            continue\n",
    "        # Fix the value and add the error to error List\n",
    "        err_mod =  'non-specified'\n",
    "        add_err(i, df['Id'].iloc[i], col, df[col].iloc[i], err_mod, 'Inconsistency representation of null value' )\n",
    "        df[col].iloc[i] = err_mod"
   ]
  },
  {
   "cell_type": "markdown",
   "metadata": {},
   "source": [
    "#### Fix OpenDate and CloseDate columns"
   ]
  },
  {
   "cell_type": "markdown",
   "metadata": {},
   "source": [
    "##### Reformat datetime values"
   ]
  },
  {
   "cell_type": "code",
   "execution_count": 368,
   "metadata": {},
   "outputs": [],
   "source": [
    "# Define datetime regex to fix the format\n",
    "dt_regex = r'(\\d{4})(\\d{2})(\\d{2})T(\\d{2})(\\d{2})(\\d{2})'"
   ]
  },
  {
   "cell_type": "code",
   "execution_count": 369,
   "metadata": {},
   "outputs": [],
   "source": [
    "# Define function to rearrange groups in the original datetime string\n",
    "def transform_datetime(raw):\n",
    "    result = re.fullmatch(dt_regex, raw)\n",
    "    return f'{result.group(1)}-{result.group(2)}-{result.group(3)} {result.group(4)}:{result.group(5)}:{result.group(6)}'"
   ]
  },
  {
   "cell_type": "code",
   "execution_count": 370,
   "metadata": {},
   "outputs": [],
   "source": [
    "# Reformat both datetime columns and add error\n",
    "add_err('ALL', 'ALL', 'OpenDate, CloseDate', 'ALL', 'ALL', 'Irregularities of datetime format', 'Reformat based on regular expressions')\n",
    "df['OpenDate'] = df['OpenDate'].apply(transform_datetime)\n",
    "df['CloseDate'] = df['CloseDate'].apply(transform_datetime)"
   ]
  },
  {
   "cell_type": "markdown",
   "metadata": {},
   "source": [
    "##### Find and fix invalid datetime values in both columns"
   ]
  },
  {
   "cell_type": "code",
   "execution_count": 371,
   "metadata": {},
   "outputs": [],
   "source": [
    "# Define the format of the input string\n",
    "format_string = \"%Y-%m-%d %H:%M:%S\"\n",
    "\n",
    "# Convert the string to a datetime object to check for invalid datetimes\n",
    "open_error = []\n",
    "for i in range(len (df['OpenDate'])):\n",
    "    try:\n",
    "        datetime_object = datetime.strptime(df['OpenDate'].iloc[i], format_string)\n",
    "    # Capture invalid dates in open_error\n",
    "    except:\n",
    "        open_error.append([i, df['OpenDate'].iloc[i]])"
   ]
  },
  {
   "cell_type": "code",
   "execution_count": 372,
   "metadata": {},
   "outputs": [
    {
     "data": {
      "text/plain": [
       "[[29273, '2012-22-01 12:00:00']]"
      ]
     },
     "execution_count": 372,
     "metadata": {},
     "output_type": "execute_result"
    }
   ],
   "source": [
    "open_error"
   ]
  },
  {
   "cell_type": "code",
   "execution_count": 373,
   "metadata": {},
   "outputs": [],
   "source": [
    "close_error = []\n",
    "for val in df['CloseDate']:\n",
    "    try:\n",
    "        datetime_object = datetime.strptime(val, format_string)\n",
    "    # Capture invalid dates in close_error\n",
    "    except:\n",
    "        close_error.append(val)"
   ]
  },
  {
   "cell_type": "code",
   "execution_count": 374,
   "metadata": {},
   "outputs": [
    {
     "data": {
      "text/plain": [
       "[]"
      ]
     },
     "execution_count": 374,
     "metadata": {},
     "output_type": "execute_result"
    }
   ],
   "source": [
    "close_error"
   ]
  },
  {
   "cell_type": "code",
   "execution_count": 375,
   "metadata": {},
   "outputs": [
    {
     "data": {
      "text/plain": [
       "'2012-04-21 12:00:00'"
      ]
     },
     "execution_count": 375,
     "metadata": {},
     "output_type": "execute_result"
    }
   ],
   "source": [
    "# CloseDate of the OpenDate error\n",
    "df['CloseDate'].iloc[open_error[0][0]]"
   ]
  },
  {
   "cell_type": "markdown",
   "metadata": {},
   "source": [
    "Since the OpenDate is 2012-22-01 and CloseDate is 2012-04-21, the OpenDate is likely 2012-02-01, since the month of the OpenDate should be less than or equal to the CloseDate"
   ]
  },
  {
   "cell_type": "code",
   "execution_count": 376,
   "metadata": {},
   "outputs": [],
   "source": [
    "# Define to be modified value\n",
    "open_mod = '2012-02-01 12:00:00'\n",
    "# Index of OpenDate error\n",
    "ind = open_error[0][0]\n",
    "# Add OpenDate error to error list\n",
    "add_err(ind, df['Id'].iloc[ind], 'OpenDate', open_error[0][1], open_mod, \"Integrity Constraint Violation\", \"Change OpenDate month to before CloseDate\")\n",
    "# Fix OpenDate error in dataframe\n",
    "df['OpenDate'].iloc[open_error[0][0]] = open_mod\n"
   ]
  },
  {
   "cell_type": "markdown",
   "metadata": {},
   "source": [
    "##### Find logical errors in datetime columns"
   ]
  },
  {
   "cell_type": "code",
   "execution_count": 377,
   "metadata": {},
   "outputs": [],
   "source": [
    "# Transform CloseDate and OpenDate into 2 arrays of datetime objects\n",
    "open = []\n",
    "for i in range(len (df['OpenDate'])):\n",
    "    datetime_object = datetime.strptime(df['OpenDate'].iloc[i], format_string)\n",
    "    open.append(datetime_object)\n",
    "\n",
    "close = []\n",
    "for i in range(len (df['CloseDate'])):\n",
    "    datetime_object = datetime.strptime(df['CloseDate'].iloc[i], format_string)\n",
    "    close.append(datetime_object)"
   ]
  },
  {
   "cell_type": "code",
   "execution_count": 378,
   "metadata": {},
   "outputs": [],
   "source": [
    "# Record logical errors indexes\n",
    "close_open_error_ind = []\n",
    "for i in range(len(open)):\n",
    "    if open[i] > close[i]:\n",
    "        close_open_error_ind.append(i)"
   ]
  },
  {
   "cell_type": "code",
   "execution_count": 379,
   "metadata": {},
   "outputs": [
    {
     "data": {
      "text/plain": [
       "[11245, 19021, 24987, 44664, 49451]"
      ]
     },
     "execution_count": 379,
     "metadata": {},
     "output_type": "execute_result"
    }
   ],
   "source": [
    "close_open_error_ind"
   ]
  },
  {
   "cell_type": "code",
   "execution_count": 380,
   "metadata": {},
   "outputs": [
    {
     "data": {
      "text/html": [
       "<div>\n",
       "<style scoped>\n",
       "    .dataframe tbody tr th:only-of-type {\n",
       "        vertical-align: middle;\n",
       "    }\n",
       "\n",
       "    .dataframe tbody tr th {\n",
       "        vertical-align: top;\n",
       "    }\n",
       "\n",
       "    .dataframe thead th {\n",
       "        text-align: right;\n",
       "    }\n",
       "</style>\n",
       "<table border=\"1\" class=\"dataframe\">\n",
       "  <thead>\n",
       "    <tr style=\"text-align: right;\">\n",
       "      <th></th>\n",
       "      <th>OpenDate</th>\n",
       "      <th>CloseDate</th>\n",
       "    </tr>\n",
       "  </thead>\n",
       "  <tbody>\n",
       "    <tr>\n",
       "      <th>11245</th>\n",
       "      <td>2012-11-02 15:00:00</td>\n",
       "      <td>2012-10-03 15:00:00</td>\n",
       "    </tr>\n",
       "    <tr>\n",
       "      <th>19021</th>\n",
       "      <td>2013-09-18 12:00:00</td>\n",
       "      <td>2013-06-20 12:00:00</td>\n",
       "    </tr>\n",
       "    <tr>\n",
       "      <th>24987</th>\n",
       "      <td>2012-04-30 12:00:00</td>\n",
       "      <td>2012-03-31 12:00:00</td>\n",
       "    </tr>\n",
       "    <tr>\n",
       "      <th>44664</th>\n",
       "      <td>2014-02-23 15:00:00</td>\n",
       "      <td>2013-12-25 15:00:00</td>\n",
       "    </tr>\n",
       "    <tr>\n",
       "      <th>49451</th>\n",
       "      <td>2012-05-06 00:00:00</td>\n",
       "      <td>2012-04-06 00:00:00</td>\n",
       "    </tr>\n",
       "  </tbody>\n",
       "</table>\n",
       "</div>"
      ],
      "text/plain": [
       "                  OpenDate            CloseDate\n",
       "11245  2012-11-02 15:00:00  2012-10-03 15:00:00\n",
       "19021  2013-09-18 12:00:00  2013-06-20 12:00:00\n",
       "24987  2012-04-30 12:00:00  2012-03-31 12:00:00\n",
       "44664  2014-02-23 15:00:00  2013-12-25 15:00:00\n",
       "49451  2012-05-06 00:00:00  2012-04-06 00:00:00"
      ]
     },
     "execution_count": 380,
     "metadata": {},
     "output_type": "execute_result"
    }
   ],
   "source": [
    "# Inspect logical errors\n",
    "df[['OpenDate', 'CloseDate']].iloc[close_open_error_ind]"
   ]
  },
  {
   "cell_type": "code",
   "execution_count": 381,
   "metadata": {},
   "outputs": [],
   "source": [
    "# Fix logical errors and add to error list\n",
    "for i in close_open_error_ind:\n",
    "    openDate = df['OpenDate'].iloc[i]\n",
    "    closeDate = df['CloseDate'].iloc[i]\n",
    "    add_err(i, df['Id'].iloc[i], 'OpenDate, CloseDate', openDate, closeDate, \"Integrity Constraint Violation\", \"Swap OpenDate and CloseDate values\")\n",
    "    add_err(i, df['Id'].iloc[i], 'OpenDate, CloseDate', closeDate, openDate, \"Integrity Constraint Violation\", \"Swap OpenDate and CloseDate values\")\n",
    "    # Swap CloseDate and OpenDate\n",
    "    df['OpenDate'].iloc[i] = closeDate\n",
    "    df['CloseDate'].iloc[i] = openDate"
   ]
  },
  {
   "cell_type": "markdown",
   "metadata": {},
   "source": [
    "#### Fix Location column"
   ]
  },
  {
   "cell_type": "markdown",
   "metadata": {},
   "source": [
    "Since the frequencies of misspelled values are all under 7, we will use 6 as a threshold to identify misspellings"
   ]
  },
  {
   "cell_type": "code",
   "execution_count": 382,
   "metadata": {},
   "outputs": [
    {
     "name": "stdout",
     "output_type": "stream",
     "text": [
      "HAMpshire\n",
      "Hampshira\n",
      "BRISTOL\n",
      "DONCASTER\n",
      "Livepool\n",
      "Leads\n",
      "LANCASHIRE\n",
      "Oxfords\n",
      "Leads\n",
      "Cembridge\n",
      "SURREY\n",
      "Warringtn\n",
      "Hampshira\n",
      "DONCASTER\n",
      "Warringtn\n",
      "london\n",
      "LANCASHIRE\n",
      "london\n",
      "birmingham\n",
      "Croydan\n",
      "Londn\n",
      "Manchaster\n",
      "SURREY\n",
      "ABERDEEN\n"
     ]
    }
   ],
   "source": [
    "v  = df['Location'].value_counts()\n",
    "threshold = 6\n",
    "# Identify misspellings\n",
    "locations = df.loc[~df['Location'].isin(v.index[v.gt(threshold)]), 'Location']\n",
    "for val in locations:\n",
    "        print(val)"
   ]
  },
  {
   "cell_type": "code",
   "execution_count": 383,
   "metadata": {},
   "outputs": [],
   "source": [
    "# Define dictionary for replacement\n",
    "replace_dict = dict()\n",
    "for ind, word in locations.items():\n",
    "    # Normalise case for word letters\n",
    "    case_word = word[0].upper() + word[1:].lower()\n",
    "    # find correct word to replace\n",
    "    new_word = difflib.get_close_matches(case_word, set(df['Location']).difference(locations), n=1, cutoff=0.8)[0]\n",
    "    # Add to error list and add correct word to dictionary\n",
    "    add_err(ind, df['Id'].iloc[ind], 'Location', word, new_word, \"Misspelling\")\n",
    "    replace_dict[word] = new_word"
   ]
  },
  {
   "cell_type": "code",
   "execution_count": 384,
   "metadata": {},
   "outputs": [],
   "source": [
    "# Replace misspellings with correct words\n",
    "df['Location'].replace(replace_dict, inplace=True)"
   ]
  },
  {
   "cell_type": "code",
   "execution_count": 385,
   "metadata": {},
   "outputs": [
    {
     "data": {
      "text/plain": [
       "UK                   7719\n",
       "London               6574\n",
       "South East London    2665\n",
       "The City             1144\n",
       "Central London        829\n",
       "                     ... \n",
       "Twickenham              9\n",
       "Lutterworth             9\n",
       "Normanton               9\n",
       "Waterlooville           8\n",
       "North Finchley          7\n",
       "Name: Location, Length: 479, dtype: int64"
      ]
     },
     "execution_count": 385,
     "metadata": {},
     "output_type": "execute_result"
    }
   ],
   "source": [
    "df['Location'].value_counts()"
   ]
  },
  {
   "cell_type": "markdown",
   "metadata": {},
   "source": [
    "#### Fix Salary column"
   ]
  },
  {
   "cell_type": "markdown",
   "metadata": {},
   "source": [
    "##### Reformat Salary column"
   ]
  },
  {
   "cell_type": "code",
   "execution_count": 386,
   "metadata": {},
   "outputs": [],
   "source": [
    "# Define null values representations in Salary column\n",
    "salary_nans = ['N/A', '-', '0', ' ']"
   ]
  },
  {
   "cell_type": "markdown",
   "metadata": {},
   "source": [
    "The reformat_salary function is written based on the patterns capture in the audit stage above"
   ]
  },
  {
   "cell_type": "code",
   "execution_count": 387,
   "metadata": {},
   "outputs": [],
   "source": [
    "def reformat_salary(old):\n",
    "    # If value is null, return null\n",
    "    if old in salary_nans:\n",
    "        return None\n",
    "    old = str(old)\n",
    "    # If value is correct format\n",
    "    if re.fullmatch('(\\d+)\\.(\\d+)', old) or re.fullmatch('(\\d+)', old):\n",
    "        return float(old)\n",
    "    # If value is a number\n",
    "    if re.fullmatch('(\\d+) per Annum', old):\n",
    "        return float(re.fullmatch('(\\d+) per Annum', old).group(1))\n",
    "    if re.fullmatch('(\\d+)/year', old):\n",
    "        return float( re.fullmatch('(\\d+)/year', old).group(1))\n",
    "    # If value is a number with 'k'\n",
    "    if re.fullmatch('(\\d+)k', old):\n",
    "        return float(re.fullmatch('(\\d+)k', old).group(1)) * 1000\n",
    "    # If value represents a range between 2 number\n",
    "    if re.fullmatch('(\\d+).+(\\d+)', old):\n",
    "        return (float(re.fullmatch('(\\d+).+ (\\d+)', old).group(1)) + float(re.fullmatch('(\\d+).+ (\\d+)', old).group(2))) / 2    \n",
    "    # If value is the hourly wage\n",
    "    if re.fullmatch('(\\d+\\.\\d+) per hour', old):\n",
    "        return float(re.fullmatch('(\\d+\\.\\d+) per hour', old).group(1)) * 8 * 365 \n",
    "    if re.fullmatch('(\\d+\\.\\d+) p/h', old):\n",
    "        return float( re.fullmatch('(\\d+\\.\\d+) p/h', old).group(1)) * 8 * 365  \n",
    "    return None"
   ]
  },
  {
   "cell_type": "code",
   "execution_count": 388,
   "metadata": {},
   "outputs": [],
   "source": [
    "# Loop through Salary column to fix and add error\n",
    "for i in range(len(df['Salary'])):\n",
    "    old = df['Salary'].iloc[i]\n",
    "    if reformat_salary(old) != None:\n",
    "        new_val = reformat_salary(old)\n",
    "        add_err(i, df['Id'].iloc[i], 'Salary', old, new_val, 'Irregularities of salary format')\n",
    "        df['Salary'].iloc[i] = new_val\n"
   ]
  },
  {
   "cell_type": "markdown",
   "metadata": {},
   "source": [
    "##### Find and fix outliers in Salary column"
   ]
  },
  {
   "cell_type": "code",
   "execution_count": 389,
   "metadata": {},
   "outputs": [],
   "source": [
    "# Define dataframe version with to null values of Salary\n",
    "df_no_nan = df.loc[~df['Salary'].isin(salary_nans)]"
   ]
  },
  {
   "cell_type": "code",
   "execution_count": 390,
   "metadata": {},
   "outputs": [
    {
     "data": {
      "text/plain": [
       "<Axes: xlabel='Salary'>"
      ]
     },
     "execution_count": 390,
     "metadata": {},
     "output_type": "execute_result"
    },
    {
     "data": {
      "image/png": "[encoded data removed]",
      "text/plain": [
       "<Figure size 640x480 with 1 Axes>"
      ]
     },
     "metadata": {},
     "output_type": "display_data"
    }
   ],
   "source": [
    "# Boxplot Salary column\n",
    "sns.boxplot(data=df_no_nan, x='Salary')"
   ]
  },
  {
   "cell_type": "code",
   "execution_count": 391,
   "metadata": {},
   "outputs": [
    {
     "data": {
      "text/plain": [
       "10000000.0"
      ]
     },
     "execution_count": 391,
     "metadata": {},
     "output_type": "execute_result"
    }
   ],
   "source": [
    "df_no_nan['Salary'].max()"
   ]
  },
  {
   "cell_type": "code",
   "execution_count": 392,
   "metadata": {},
   "outputs": [
    {
     "data": {
      "image/png": "[encoded data removed]",
      "text/plain": [
       "<Figure size 640x480 with 1 Axes>"
      ]
     },
     "metadata": {},
     "output_type": "display_data"
    }
   ],
   "source": [
    "# Boxplot Salary column without abnormal max value\n",
    "sns.boxplot(data=df_no_nan,x=df_no_nan['Salary'].loc[df_no_nan['Salary'] < 10000000.0], y = df_no_nan['Category'])\n",
    "plt.show()"
   ]
  },
  {
   "cell_type": "code",
   "execution_count": 393,
   "metadata": {},
   "outputs": [
    {
     "data": {
      "text/plain": [
       "[47107, 6068, 41838, 50077, 46117, 19329, 20181, 34390, 1647, 2372]"
      ]
     },
     "execution_count": 393,
     "metadata": {},
     "output_type": "execute_result"
    }
   ],
   "source": [
    "# Add outliers indexes into an array\n",
    "outliers_ind = []\n",
    "outliers_ind.extend(df_no_nan.loc[(df_no_nan['Category'] == 'Engineering Jobs' )& (df_no_nan['Salary'] > 80000)].index.tolist())\n",
    "outliers_ind.extend(df_no_nan.loc[(df_no_nan['Category'] == 'IT Jobs' )& (df_no_nan['Salary'] > 100000)].index.tolist())\n",
    "outliers_ind.extend(df_no_nan.loc[(df['Category'] == 'Accounting & Finance Jobs' )& (df_no_nan['Salary'] > 100000)].index.tolist())\n",
    "outliers_ind.extend(df_no_nan.loc[(df_no_nan['Category'] == 'Sales Jobs' )& (df_no_nan['Salary'] > 60000)].index.tolist())\n",
    "outliers_ind.extend(df_no_nan.loc[(df_no_nan['Category'] == 'Hospitality & Catering Jobs' )& (df_no_nan['Salary'] > 60000)].index.tolist())\n",
    "outliers_ind.extend(df_no_nan.loc[(df_no_nan['Category'] == 'Teaching Jobs' )& (df_no_nan['Salary'] > 60000)].index.tolist())\n",
    "outliers_ind.extend(df_no_nan.loc[df_no_nan['Salary'] == df_no_nan['Salary'].max()].index.tolist())\n",
    "\n",
    "outliers_ind"
   ]
  },
  {
   "cell_type": "code",
   "execution_count": 394,
   "metadata": {},
   "outputs": [],
   "source": [
    "# Add outliers error and drop outliers\n",
    "for ind in outliers_ind:\n",
    "    add_err(ind, df['Id'].iloc[ind], 'Salary', df['Salary'].iloc[ind], '', 'Outlier', 'Extreme outliers need to be dropped')\n",
    "df = df.drop(outliers_ind)"
   ]
  },
  {
   "cell_type": "code",
   "execution_count": 395,
   "metadata": {},
   "outputs": [],
   "source": [
    "# Reset index after dropping values \n",
    "df.reset_index(inplace=True)"
   ]
  },
  {
   "cell_type": "code",
   "execution_count": 396,
   "metadata": {},
   "outputs": [],
   "source": [
    "df.drop(columns=['index'], inplace=True)"
   ]
  },
  {
   "cell_type": "markdown",
   "metadata": {},
   "source": [
    "##### Predict missing values in Salary column"
   ]
  },
  {
   "cell_type": "code",
   "execution_count": 397,
   "metadata": {},
   "outputs": [
    {
     "data": {
      "text/plain": [
       "Index(['Id', 'Title', 'Company', 'Salary', 'OpenDate', 'CloseDate',\n",
       "       'SourceName', 'ContractType_full_time', 'ContractType_non-specified',\n",
       "       'ContractType_part_time',\n",
       "       ...\n",
       "       'Location_Woodthorpe', 'Location_Worcester', 'Location_Worcestershire',\n",
       "       'Location_Workington', 'Location_Worksop', 'Location_Worthing',\n",
       "       'Location_Wrexham', 'Location_Yeovil', 'Location_York',\n",
       "       'Location_Yorkshire and Humberside'],\n",
       "      dtype='object', length=500)"
      ]
     },
     "execution_count": 397,
     "metadata": {},
     "output_type": "execute_result"
    }
   ],
   "source": [
    "# Define columns that are Salary dependent on\n",
    "cols = ['ContractType', 'ContractTime', 'Category','Location']\n",
    "# Create dummy dataframe for machine learning\n",
    "dummy = pd.get_dummies(df, columns=cols)\n",
    "dummy.columns"
   ]
  },
  {
   "cell_type": "code",
   "execution_count": 398,
   "metadata": {},
   "outputs": [],
   "source": [
    "# Define dummy dataframe with to null values of Salary\n",
    "dummy_no_nan = dummy.loc[~dummy['Salary'].isin(salary_nans)]"
   ]
  },
  {
   "cell_type": "code",
   "execution_count": 399,
   "metadata": {},
   "outputs": [],
   "source": [
    "# Define training sets\n",
    "dummy_cols = dummy.columns[7::]\n",
    "x_train = dummy_no_nan[dummy_cols]\n",
    "y_train = dummy_no_nan['Salary']"
   ]
  },
  {
   "cell_type": "code",
   "execution_count": 400,
   "metadata": {},
   "outputs": [
    {
     "data": {
      "text/html": [
       "<style>#sk-container-id-2 {color: black;background-color: white;}#sk-container-id-2 pre{padding: 0;}#sk-container-id-2 div.sk-toggleable {background-color: white;}#sk-container-id-2 label.sk-toggleable__label {cursor: pointer;display: block;width: 100%;margin-bottom: 0;padding: 0.3em;box-sizing: border-box;text-align: center;}#sk-container-id-2 label.sk-toggleable__label-arrow:before {content: \"▸\";float: left;margin-right: 0.25em;color: #696969;}#sk-container-id-2 label.sk-toggleable__label-arrow:hover:before {color: black;}#sk-container-id-2 div.sk-estimator:hover label.sk-toggleable__label-arrow:before {color: black;}#sk-container-id-2 div.sk-toggleable__content {max-height: 0;max-width: 0;overflow: hidden;text-align: left;background-color: #f0f8ff;}#sk-container-id-2 div.sk-toggleable__content pre {margin: 0.2em;color: black;border-radius: 0.25em;background-color: #f0f8ff;}#sk-container-id-2 input.sk-toggleable__control:checked~div.sk-toggleable__content {max-height: 200px;max-width: 100%;overflow: auto;}#sk-container-id-2 input.sk-toggleable__control:checked~label.sk-toggleable__label-arrow:before {content: \"▾\";}#sk-container-id-2 div.sk-estimator input.sk-toggleable__control:checked~label.sk-toggleable__label {background-color: #d4ebff;}#sk-container-id-2 div.sk-label input.sk-toggleable__control:checked~label.sk-toggleable__label {background-color: #d4ebff;}#sk-container-id-2 input.sk-hidden--visually {border: 0;clip: rect(1px 1px 1px 1px);clip: rect(1px, 1px, 1px, 1px);height: 1px;margin: -1px;overflow: hidden;padding: 0;position: absolute;width: 1px;}#sk-container-id-2 div.sk-estimator {font-family: monospace;background-color: #f0f8ff;border: 1px dotted black;border-radius: 0.25em;box-sizing: border-box;margin-bottom: 0.5em;}#sk-container-id-2 div.sk-estimator:hover {background-color: #d4ebff;}#sk-container-id-2 div.sk-parallel-item::after {content: \"\";width: 100%;border-bottom: 1px solid gray;flex-grow: 1;}#sk-container-id-2 div.sk-label:hover label.sk-toggleable__label {background-color: #d4ebff;}#sk-container-id-2 div.sk-serial::before {content: \"\";position: absolute;border-left: 1px solid gray;box-sizing: border-box;top: 0;bottom: 0;left: 50%;z-index: 0;}#sk-container-id-2 div.sk-serial {display: flex;flex-direction: column;align-items: center;background-color: white;padding-right: 0.2em;padding-left: 0.2em;position: relative;}#sk-container-id-2 div.sk-item {position: relative;z-index: 1;}#sk-container-id-2 div.sk-parallel {display: flex;align-items: stretch;justify-content: center;background-color: white;position: relative;}#sk-container-id-2 div.sk-item::before, #sk-container-id-2 div.sk-parallel-item::before {content: \"\";position: absolute;border-left: 1px solid gray;box-sizing: border-box;top: 0;bottom: 0;left: 50%;z-index: -1;}#sk-container-id-2 div.sk-parallel-item {display: flex;flex-direction: column;z-index: 1;position: relative;background-color: white;}#sk-container-id-2 div.sk-parallel-item:first-child::after {align-self: flex-end;width: 50%;}#sk-container-id-2 div.sk-parallel-item:last-child::after {align-self: flex-start;width: 50%;}#sk-container-id-2 div.sk-parallel-item:only-child::after {width: 0;}#sk-container-id-2 div.sk-dashed-wrapped {border: 1px dashed gray;margin: 0 0.4em 0.5em 0.4em;box-sizing: border-box;padding-bottom: 0.4em;background-color: white;}#sk-container-id-2 div.sk-label label {font-family: monospace;font-weight: bold;display: inline-block;line-height: 1.2em;}#sk-container-id-2 div.sk-label-container {text-align: center;}#sk-container-id-2 div.sk-container {/* jupyter's `normalize.less` sets `[hidden] { display: none; }` but bootstrap.min.css set `[hidden] { display: none !important; }` so we also need the `!important` here to be able to override the default hidden behavior on the sphinx rendered scikit-learn.org. See: https://github.com/scikit-learn/scikit-learn/issues/21755 */display: inline-block !important;position: relative;}#sk-container-id-2 div.sk-text-repr-fallback {display: none;}</style><div id=\"sk-container-id-2\" class=\"sk-top-container\"><div class=\"sk-text-repr-fallback\"><pre>LinearRegression()</pre><b>In a Jupyter environment, please rerun this cell to show the HTML representation or trust the notebook. <br />On GitHub, the HTML representation is unable to render, please try loading this page with nbviewer.org.</b></div><div class=\"sk-container\" hidden><div class=\"sk-item\"><div class=\"sk-estimator sk-toggleable\"><input class=\"sk-toggleable__control sk-hidden--visually\" id=\"sk-estimator-id-2\" type=\"checkbox\" checked><label for=\"sk-estimator-id-2\" class=\"sk-toggleable__label sk-toggleable__label-arrow\">LinearRegression</label><div class=\"sk-toggleable__content\"><pre>LinearRegression()</pre></div></div></div></div></div>"
      ],
      "text/plain": [
       "LinearRegression()"
      ]
     },
     "execution_count": 400,
     "metadata": {},
     "output_type": "execute_result"
    }
   ],
   "source": [
    "# Fit model\n",
    "regr = linear_model.LinearRegression()\n",
    "regr.fit(x_train, y_train)"
   ]
  },
  {
   "cell_type": "code",
   "execution_count": 401,
   "metadata": {},
   "outputs": [
    {
     "data": {
      "text/html": [
       "<div>\n",
       "<style scoped>\n",
       "    .dataframe tbody tr th:only-of-type {\n",
       "        vertical-align: middle;\n",
       "    }\n",
       "\n",
       "    .dataframe tbody tr th {\n",
       "        vertical-align: top;\n",
       "    }\n",
       "\n",
       "    .dataframe thead th {\n",
       "        text-align: right;\n",
       "    }\n",
       "</style>\n",
       "<table border=\"1\" class=\"dataframe\">\n",
       "  <thead>\n",
       "    <tr style=\"text-align: right;\">\n",
       "      <th></th>\n",
       "      <th>Id</th>\n",
       "      <th>Title</th>\n",
       "      <th>Company</th>\n",
       "      <th>Salary</th>\n",
       "      <th>OpenDate</th>\n",
       "      <th>CloseDate</th>\n",
       "      <th>SourceName</th>\n",
       "      <th>ContractType_full_time</th>\n",
       "      <th>ContractType_non-specified</th>\n",
       "      <th>ContractType_part_time</th>\n",
       "      <th>...</th>\n",
       "      <th>Location_Woodthorpe</th>\n",
       "      <th>Location_Worcester</th>\n",
       "      <th>Location_Worcestershire</th>\n",
       "      <th>Location_Workington</th>\n",
       "      <th>Location_Worksop</th>\n",
       "      <th>Location_Worthing</th>\n",
       "      <th>Location_Wrexham</th>\n",
       "      <th>Location_Yeovil</th>\n",
       "      <th>Location_York</th>\n",
       "      <th>Location_Yorkshire and Humberside</th>\n",
       "    </tr>\n",
       "  </thead>\n",
       "  <tbody>\n",
       "    <tr>\n",
       "      <th>49</th>\n",
       "      <td>66579338</td>\n",
       "      <td>Dental : Dental Nurse GDN****</td>\n",
       "      <td>non-specified</td>\n",
       "      <td>-</td>\n",
       "      <td>2013-12-30 15:00:00</td>\n",
       "      <td>2014-02-28 15:00:00</td>\n",
       "      <td>jobs4medical.co.uk</td>\n",
       "      <td>0</td>\n",
       "      <td>1</td>\n",
       "      <td>0</td>\n",
       "      <td>...</td>\n",
       "      <td>0</td>\n",
       "      <td>0</td>\n",
       "      <td>0</td>\n",
       "      <td>0</td>\n",
       "      <td>0</td>\n",
       "      <td>0</td>\n",
       "      <td>0</td>\n",
       "      <td>0</td>\n",
       "      <td>0</td>\n",
       "      <td>0</td>\n",
       "    </tr>\n",
       "    <tr>\n",
       "      <th>60</th>\n",
       "      <td>70229120</td>\n",
       "      <td>Allied Health Care Professional : Optometrist ...</td>\n",
       "      <td>non-specified</td>\n",
       "      <td>-</td>\n",
       "      <td>2012-10-29 12:00:00</td>\n",
       "      <td>2012-11-28 12:00:00</td>\n",
       "      <td>jobs4medical.co.uk</td>\n",
       "      <td>0</td>\n",
       "      <td>1</td>\n",
       "      <td>0</td>\n",
       "      <td>...</td>\n",
       "      <td>0</td>\n",
       "      <td>0</td>\n",
       "      <td>0</td>\n",
       "      <td>0</td>\n",
       "      <td>0</td>\n",
       "      <td>0</td>\n",
       "      <td>0</td>\n",
       "      <td>0</td>\n",
       "      <td>0</td>\n",
       "      <td>0</td>\n",
       "    </tr>\n",
       "    <tr>\n",
       "      <th>146</th>\n",
       "      <td>67155590</td>\n",
       "      <td>Allied Health Care Professional : Operations M...</td>\n",
       "      <td>non-specified</td>\n",
       "      <td>-</td>\n",
       "      <td>2013-06-27 00:00:00</td>\n",
       "      <td>2013-08-26 00:00:00</td>\n",
       "      <td>jobs4medical.co.uk</td>\n",
       "      <td>0</td>\n",
       "      <td>1</td>\n",
       "      <td>0</td>\n",
       "      <td>...</td>\n",
       "      <td>0</td>\n",
       "      <td>0</td>\n",
       "      <td>0</td>\n",
       "      <td>0</td>\n",
       "      <td>0</td>\n",
       "      <td>0</td>\n",
       "      <td>0</td>\n",
       "      <td>0</td>\n",
       "      <td>0</td>\n",
       "      <td>0</td>\n",
       "    </tr>\n",
       "    <tr>\n",
       "      <th>151</th>\n",
       "      <td>71337829</td>\n",
       "      <td>Allied Health Care Professional : Newly Qualif...</td>\n",
       "      <td>non-specified</td>\n",
       "      <td>-</td>\n",
       "      <td>2012-10-12 12:00:00</td>\n",
       "      <td>2012-10-26 12:00:00</td>\n",
       "      <td>jobs4medical.co.uk</td>\n",
       "      <td>0</td>\n",
       "      <td>1</td>\n",
       "      <td>0</td>\n",
       "      <td>...</td>\n",
       "      <td>0</td>\n",
       "      <td>0</td>\n",
       "      <td>0</td>\n",
       "      <td>0</td>\n",
       "      <td>0</td>\n",
       "      <td>0</td>\n",
       "      <td>0</td>\n",
       "      <td>0</td>\n",
       "      <td>0</td>\n",
       "      <td>0</td>\n",
       "    </tr>\n",
       "    <tr>\n",
       "      <th>170</th>\n",
       "      <td>69973880</td>\n",
       "      <td>Allied Health Care Professional : Mobile Optom...</td>\n",
       "      <td>non-specified</td>\n",
       "      <td>-</td>\n",
       "      <td>2013-03-11 15:00:00</td>\n",
       "      <td>2013-04-10 15:00:00</td>\n",
       "      <td>jobs4medical.co.uk</td>\n",
       "      <td>0</td>\n",
       "      <td>1</td>\n",
       "      <td>0</td>\n",
       "      <td>...</td>\n",
       "      <td>0</td>\n",
       "      <td>0</td>\n",
       "      <td>0</td>\n",
       "      <td>0</td>\n",
       "      <td>0</td>\n",
       "      <td>0</td>\n",
       "      <td>0</td>\n",
       "      <td>0</td>\n",
       "      <td>0</td>\n",
       "      <td>0</td>\n",
       "    </tr>\n",
       "    <tr>\n",
       "      <th>...</th>\n",
       "      <td>...</td>\n",
       "      <td>...</td>\n",
       "      <td>...</td>\n",
       "      <td>...</td>\n",
       "      <td>...</td>\n",
       "      <td>...</td>\n",
       "      <td>...</td>\n",
       "      <td>...</td>\n",
       "      <td>...</td>\n",
       "      <td>...</td>\n",
       "      <td>...</td>\n",
       "      <td>...</td>\n",
       "      <td>...</td>\n",
       "      <td>...</td>\n",
       "      <td>...</td>\n",
       "      <td>...</td>\n",
       "      <td>...</td>\n",
       "      <td>...</td>\n",
       "      <td>...</td>\n",
       "      <td>...</td>\n",
       "      <td>...</td>\n",
       "    </tr>\n",
       "    <tr>\n",
       "      <th>50639</th>\n",
       "      <td>71745097</td>\n",
       "      <td>Subject Leader for Science</td>\n",
       "      <td>Woodlands Community College</td>\n",
       "      <td>-</td>\n",
       "      <td>2012-01-30 12:00:00</td>\n",
       "      <td>2012-03-30 12:00:00</td>\n",
       "      <td>Teaching jobs - TES Connect</td>\n",
       "      <td>0</td>\n",
       "      <td>1</td>\n",
       "      <td>0</td>\n",
       "      <td>...</td>\n",
       "      <td>0</td>\n",
       "      <td>0</td>\n",
       "      <td>0</td>\n",
       "      <td>0</td>\n",
       "      <td>0</td>\n",
       "      <td>0</td>\n",
       "      <td>0</td>\n",
       "      <td>0</td>\n",
       "      <td>0</td>\n",
       "      <td>0</td>\n",
       "    </tr>\n",
       "    <tr>\n",
       "      <th>50672</th>\n",
       "      <td>72393611</td>\n",
       "      <td>Senior Structural AutoCAD Technician</td>\n",
       "      <td>Walker Dendle</td>\n",
       "      <td></td>\n",
       "      <td>2012-06-21 15:00:00</td>\n",
       "      <td>2012-08-20 15:00:00</td>\n",
       "      <td>ncejobs.co.uk</td>\n",
       "      <td>0</td>\n",
       "      <td>1</td>\n",
       "      <td>0</td>\n",
       "      <td>...</td>\n",
       "      <td>0</td>\n",
       "      <td>0</td>\n",
       "      <td>0</td>\n",
       "      <td>0</td>\n",
       "      <td>0</td>\n",
       "      <td>0</td>\n",
       "      <td>0</td>\n",
       "      <td>0</td>\n",
       "      <td>0</td>\n",
       "      <td>0</td>\n",
       "    </tr>\n",
       "    <tr>\n",
       "      <th>50709</th>\n",
       "      <td>71966372</td>\n",
       "      <td>Business Development Manager – Travel Payments</td>\n",
       "      <td>CorporatePay</td>\n",
       "      <td>-</td>\n",
       "      <td>2012-10-13 15:00:00</td>\n",
       "      <td>2012-12-12 15:00:00</td>\n",
       "      <td>cardandpaymentjobs.com</td>\n",
       "      <td>0</td>\n",
       "      <td>1</td>\n",
       "      <td>0</td>\n",
       "      <td>...</td>\n",
       "      <td>0</td>\n",
       "      <td>0</td>\n",
       "      <td>0</td>\n",
       "      <td>0</td>\n",
       "      <td>0</td>\n",
       "      <td>0</td>\n",
       "      <td>0</td>\n",
       "      <td>0</td>\n",
       "      <td>0</td>\n",
       "      <td>0</td>\n",
       "    </tr>\n",
       "    <tr>\n",
       "      <th>50731</th>\n",
       "      <td>71088787</td>\n",
       "      <td>Copy Writer / Communications Executive</td>\n",
       "      <td>Prysm Media Group Ltd</td>\n",
       "      <td>N/A</td>\n",
       "      <td>2012-03-11 00:00:00</td>\n",
       "      <td>2012-05-10 00:00:00</td>\n",
       "      <td>workthing.com</td>\n",
       "      <td>1</td>\n",
       "      <td>0</td>\n",
       "      <td>0</td>\n",
       "      <td>...</td>\n",
       "      <td>0</td>\n",
       "      <td>0</td>\n",
       "      <td>0</td>\n",
       "      <td>0</td>\n",
       "      <td>0</td>\n",
       "      <td>0</td>\n",
       "      <td>0</td>\n",
       "      <td>0</td>\n",
       "      <td>0</td>\n",
       "      <td>0</td>\n",
       "    </tr>\n",
       "    <tr>\n",
       "      <th>50742</th>\n",
       "      <td>66372417</td>\n",
       "      <td>Graduate Engineer (Water industry)</td>\n",
       "      <td>Carrington West Limited</td>\n",
       "      <td>-</td>\n",
       "      <td>2013-01-19 00:00:00</td>\n",
       "      <td>2013-04-19 00:00:00</td>\n",
       "      <td>thegraduate.co.uk</td>\n",
       "      <td>1</td>\n",
       "      <td>0</td>\n",
       "      <td>0</td>\n",
       "      <td>...</td>\n",
       "      <td>0</td>\n",
       "      <td>0</td>\n",
       "      <td>0</td>\n",
       "      <td>0</td>\n",
       "      <td>0</td>\n",
       "      <td>0</td>\n",
       "      <td>0</td>\n",
       "      <td>0</td>\n",
       "      <td>0</td>\n",
       "      <td>0</td>\n",
       "    </tr>\n",
       "  </tbody>\n",
       "</table>\n",
       "<p>2497 rows × 500 columns</p>\n",
       "</div>"
      ],
      "text/plain": [
       "             Id                                              Title  \\\n",
       "49     66579338                      Dental : Dental Nurse GDN****   \n",
       "60     70229120  Allied Health Care Professional : Optometrist ...   \n",
       "146    67155590  Allied Health Care Professional : Operations M...   \n",
       "151    71337829  Allied Health Care Professional : Newly Qualif...   \n",
       "170    69973880  Allied Health Care Professional : Mobile Optom...   \n",
       "...         ...                                                ...   \n",
       "50639  71745097                         Subject Leader for Science   \n",
       "50672  72393611               Senior Structural AutoCAD Technician   \n",
       "50709  71966372     Business Development Manager – Travel Payments   \n",
       "50731  71088787             Copy Writer / Communications Executive   \n",
       "50742  66372417                 Graduate Engineer (Water industry)   \n",
       "\n",
       "                           Company Salary             OpenDate  \\\n",
       "49                   non-specified      -  2013-12-30 15:00:00   \n",
       "60                   non-specified      -  2012-10-29 12:00:00   \n",
       "146                  non-specified      -  2013-06-27 00:00:00   \n",
       "151                  non-specified      -  2012-10-12 12:00:00   \n",
       "170                  non-specified      -  2013-03-11 15:00:00   \n",
       "...                            ...    ...                  ...   \n",
       "50639  Woodlands Community College      -  2012-01-30 12:00:00   \n",
       "50672                Walker Dendle         2012-06-21 15:00:00   \n",
       "50709                 CorporatePay      -  2012-10-13 15:00:00   \n",
       "50731        Prysm Media Group Ltd    N/A  2012-03-11 00:00:00   \n",
       "50742      Carrington West Limited      -  2013-01-19 00:00:00   \n",
       "\n",
       "                 CloseDate                   SourceName  \\\n",
       "49     2014-02-28 15:00:00           jobs4medical.co.uk   \n",
       "60     2012-11-28 12:00:00           jobs4medical.co.uk   \n",
       "146    2013-08-26 00:00:00           jobs4medical.co.uk   \n",
       "151    2012-10-26 12:00:00           jobs4medical.co.uk   \n",
       "170    2013-04-10 15:00:00           jobs4medical.co.uk   \n",
       "...                    ...                          ...   \n",
       "50639  2012-03-30 12:00:00  Teaching jobs - TES Connect   \n",
       "50672  2012-08-20 15:00:00                ncejobs.co.uk   \n",
       "50709  2012-12-12 15:00:00       cardandpaymentjobs.com   \n",
       "50731  2012-05-10 00:00:00                workthing.com   \n",
       "50742  2013-04-19 00:00:00            thegraduate.co.uk   \n",
       "\n",
       "       ContractType_full_time  ContractType_non-specified  \\\n",
       "49                          0                           1   \n",
       "60                          0                           1   \n",
       "146                         0                           1   \n",
       "151                         0                           1   \n",
       "170                         0                           1   \n",
       "...                       ...                         ...   \n",
       "50639                       0                           1   \n",
       "50672                       0                           1   \n",
       "50709                       0                           1   \n",
       "50731                       1                           0   \n",
       "50742                       1                           0   \n",
       "\n",
       "       ContractType_part_time  ...  Location_Woodthorpe  Location_Worcester  \\\n",
       "49                          0  ...                    0                   0   \n",
       "60                          0  ...                    0                   0   \n",
       "146                         0  ...                    0                   0   \n",
       "151                         0  ...                    0                   0   \n",
       "170                         0  ...                    0                   0   \n",
       "...                       ...  ...                  ...                 ...   \n",
       "50639                       0  ...                    0                   0   \n",
       "50672                       0  ...                    0                   0   \n",
       "50709                       0  ...                    0                   0   \n",
       "50731                       0  ...                    0                   0   \n",
       "50742                       0  ...                    0                   0   \n",
       "\n",
       "       Location_Worcestershire  Location_Workington  Location_Worksop  \\\n",
       "49                           0                    0                 0   \n",
       "60                           0                    0                 0   \n",
       "146                          0                    0                 0   \n",
       "151                          0                    0                 0   \n",
       "170                          0                    0                 0   \n",
       "...                        ...                  ...               ...   \n",
       "50639                        0                    0                 0   \n",
       "50672                        0                    0                 0   \n",
       "50709                        0                    0                 0   \n",
       "50731                        0                    0                 0   \n",
       "50742                        0                    0                 0   \n",
       "\n",
       "       Location_Worthing  Location_Wrexham  Location_Yeovil  Location_York  \\\n",
       "49                     0                 0                0              0   \n",
       "60                     0                 0                0              0   \n",
       "146                    0                 0                0              0   \n",
       "151                    0                 0                0              0   \n",
       "170                    0                 0                0              0   \n",
       "...                  ...               ...              ...            ...   \n",
       "50639                  0                 0                0              0   \n",
       "50672                  0                 0                0              0   \n",
       "50709                  0                 0                0              0   \n",
       "50731                  0                 0                0              0   \n",
       "50742                  0                 0                0              0   \n",
       "\n",
       "       Location_Yorkshire and Humberside  \n",
       "49                                     0  \n",
       "60                                     0  \n",
       "146                                    0  \n",
       "151                                    0  \n",
       "170                                    0  \n",
       "...                                  ...  \n",
       "50639                                  0  \n",
       "50672                                  0  \n",
       "50709                                  0  \n",
       "50731                                  0  \n",
       "50742                                  0  \n",
       "\n",
       "[2497 rows x 500 columns]"
      ]
     },
     "execution_count": 401,
     "metadata": {},
     "output_type": "execute_result"
    }
   ],
   "source": [
    "# define dummy dataframe with missing values\n",
    "dummy_missing = dummy.loc[dummy['Salary'].isin(salary_nans)]\n",
    "dummy_nan = dummy.iloc[dummy_missing.index]\n",
    "dummy_nan"
   ]
  },
  {
   "cell_type": "code",
   "execution_count": 402,
   "metadata": {},
   "outputs": [],
   "source": [
    "# Predict Salary values\n",
    "prediction = regr.predict(dummy_nan[dummy_cols])"
   ]
  },
  {
   "cell_type": "code",
   "execution_count": 403,
   "metadata": {},
   "outputs": [
    {
     "data": {
      "text/plain": [
       "array([29655.5 , 32423.25, 36861.5 , ..., 49269.5 , 24955.5 , 37290.5 ])"
      ]
     },
     "execution_count": 403,
     "metadata": {},
     "output_type": "execute_result"
    }
   ],
   "source": [
    "prediction"
   ]
  },
  {
   "cell_type": "code",
   "execution_count": 404,
   "metadata": {},
   "outputs": [],
   "source": [
    "# Fix Salary values and add error\n",
    "c = 0\n",
    "for i in range(len(df['Salary'])):\n",
    "    if df['Salary'].iloc[i] in salary_nans:\n",
    "        add_err(i, df['Id'].iloc[i], 'Salary', df['Salary'].iloc[i], prediction[c],\"Missing values\", \"Fill values based on model prediction\" )\n",
    "        df['Salary'].iloc[i] = prediction[c]\n",
    "        c += 1"
   ]
  },
  {
   "cell_type": "markdown",
   "metadata": {},
   "source": [
    "----------------"
   ]
  },
  {
   "cell_type": "markdown",
   "metadata": {},
   "source": [
    "## Saving data\n",
    "Save the parsed and cleaned data as well as the error list, named as:\n",
    "- \\<student\\_id\\>_dataset1_solution.csv\n",
    "- \\<student\\_id\\>_errorlist.csv"
   ]
  },
  {
   "cell_type": "code",
   "execution_count": 405,
   "metadata": {
    "collapsed": true
   },
   "outputs": [],
   "source": [
    "# code to save output data\n",
    "df.to_csv(\"./s3927198_dataset1_solution.csv\")\n",
    "err_df = pd.DataFrame(errDict)\n",
    "err_df.to_csv(\"./s3927198_errorlist.csv\")\n"
   ]
  },
  {
   "cell_type": "markdown",
   "metadata": {},
   "source": [
    "## Summary\n",
    "In short, the assignment is very interesting with different kinds of data cleaning errors and what to look out for when preparing datasets."
   ]
  }
 ],
 "metadata": {
  "kernelspec": {
   "display_name": "Python 3 (ipykernel)",
   "language": "python",
   "name": "python3"
  },
  "language_info": {
   "codemirror_mode": {
    "name": "ipython",
    "version": 3
   },
   "file_extension": ".py",
   "mimetype": "text/x-python",
   "name": "python",
   "nbconvert_exporter": "python",
   "pygments_lexer": "ipython3",
   "version": "3.11.3"
  }
 },
 "nbformat": 4,
 "nbformat_minor": 1
}
